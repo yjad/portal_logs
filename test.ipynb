{
 "cells": [
  {
   "cell_type": "code",
   "execution_count": 1,
   "metadata": {},
   "outputs": [],
   "source": [
    "import pandas as pd\n",
    "import DB as db"
   ]
  },
  {
   "cell_type": "code",
   "execution_count": null,
   "metadata": {},
   "outputs": [],
   "source": [
    "df = pd.read_csv('.\\\\out\\\\log_df.csv')\n",
    "df.head(10)"
   ]
  },
  {
   "cell_type": "code",
   "execution_count": null,
   "metadata": {},
   "outputs": [],
   "source": [
    "pd.to_datetime(df['log_date']).dt.date  \n",
    "# pd.Timestamp(df['log_date'])\n",
    "# x.dt.date\n",
    "# x.week\n",
    "# y"
   ]
  },
  {
   "cell_type": "code",
   "execution_count": 17,
   "metadata": {},
   "outputs": [],
   "source": [
    "# x = df[['token', 'line_no']].fillna('x').\\\n",
    "#         groupby(['token'],as_index = False).count().sort_values(by='line_no', ascending=False)\n",
    "# x \n",
    "\n",
    "# # x.pivot(index = ['error_categ'], columns = ['service'], values=['line_no']).fillna(0).\\\n",
    "# #            groupby(['service','error_categ'],as_index = False).count()\n",
    "# # x\n",
    "\n",
    "\n",
    "conn, cursor = db.open_db()\n",
    "cmd = \"\"\"\n",
    "select * from \n",
    "(select dt, sum(line_no) '# logins' from log_stats where token = 'Login Success' group by dt)\n",
    "left join\n",
    "(select dt, sum(line_no) '# email quota errors' from log_stats where token = 'MailSendException' group by dt)\n",
    "using (dt)\n",
    "\"\"\"\n",
    "df = pd.read_sql(cmd, conn)\n",
    "cursor.close()\n"
   ]
  },
  {
   "cell_type": "code",
   "execution_count": 21,
   "metadata": {},
   "outputs": [
    {
     "data": {
      "image/png": "[encoded data removed]",
      "text/plain": [
       "<Figure size 432x288 with 1 Axes>"
      ]
     },
     "metadata": {
      "needs_background": "light"
     },
     "output_type": "display_data"
    }
   ],
   "source": [
    "fig = df.plot(x='dt', y=['# logins', '# email quota errors'], title = 'Reservation Portal Logins vs email quota error', grid=True,\n",
    "xlabel = 'Date', ylabel = '# of customers').get_figure()\n",
    "\n",
    "fig.savefig(r'.\\out\\email quota.jpg')"
   ]
  },
  {
   "cell_type": "code",
   "execution_count": 28,
   "metadata": {},
   "outputs": [
    {
     "data": {
      "text/plain": [
       "Index(['index', 'dt', 'token', 'categ', 'line_no'], dtype='object')"
      ]
     },
     "execution_count": 28,
     "metadata": {},
     "output_type": "execute_result"
    }
   ],
   "source": [
    "stats_all.columns"
   ]
  },
  {
   "cell_type": "code",
   "execution_count": 42,
   "metadata": {},
   "outputs": [
    {
     "name": "stderr",
     "output_type": "stream",
     "text": [
      "C:\\Users\\yahia\\AppData\\Local\\Temp\\ipykernel_8516\\3757649794.py:2: SettingWithCopyWarning: \n",
      "A value is trying to be set on a copy of a slice from a DataFrame\n",
      "\n",
      "See the caveats in the documentation: https://pandas.pydata.org/pandas-docs/stable/user_guide/indexing.html#returning-a-view-versus-a-copy\n",
      "  logins.rename({'line_no':'# logins'}, inplace= True)\n",
      "C:\\Users\\yahia\\AppData\\Local\\Temp\\ipykernel_8516\\3757649794.py:4: SettingWithCopyWarning: \n",
      "A value is trying to be set on a copy of a slice from a DataFrame\n",
      "\n",
      "See the caveats in the documentation: https://pandas.pydata.org/pandas-docs/stable/user_guide/indexing.html#returning-a-view-versus-a-copy\n",
      "  emails_errors.rename({'line_no':'# email sending failiure'}, inplace= True)\n"
     ]
    },
    {
     "data": {
      "text/html": [
       "<div>\n",
       "<style scoped>\n",
       "    .dataframe tbody tr th:only-of-type {\n",
       "        vertical-align: middle;\n",
       "    }\n",
       "\n",
       "    .dataframe tbody tr th {\n",
       "        vertical-align: top;\n",
       "    }\n",
       "\n",
       "    .dataframe thead tr th {\n",
       "        text-align: left;\n",
       "    }\n",
       "</style>\n",
       "<table border=\"1\" class=\"dataframe\">\n",
       "  <thead>\n",
       "    <tr>\n",
       "      <th></th>\n",
       "      <th colspan=\"5\" halign=\"left\">dt</th>\n",
       "    </tr>\n",
       "    <tr>\n",
       "      <th></th>\n",
       "      <th>index</th>\n",
       "      <th>dt</th>\n",
       "      <th>token</th>\n",
       "      <th>categ</th>\n",
       "      <th>line_no</th>\n",
       "    </tr>\n",
       "  </thead>\n",
       "  <tbody>\n",
       "    <tr>\n",
       "      <th>1</th>\n",
       "      <td>3</td>\n",
       "      <td>2022-06-18</td>\n",
       "      <td>Login Success</td>\n",
       "      <td>user</td>\n",
       "      <td>6907</td>\n",
       "    </tr>\n",
       "    <tr>\n",
       "      <th>8</th>\n",
       "      <td>15</td>\n",
       "      <td>2022-06-19</td>\n",
       "      <td>Login Success</td>\n",
       "      <td>user</td>\n",
       "      <td>37926</td>\n",
       "    </tr>\n",
       "    <tr>\n",
       "      <th>15</th>\n",
       "      <td>27</td>\n",
       "      <td>2022-06-20</td>\n",
       "      <td>Login Success</td>\n",
       "      <td>user</td>\n",
       "      <td>10022</td>\n",
       "    </tr>\n",
       "    <tr>\n",
       "      <th>21</th>\n",
       "      <td>42</td>\n",
       "      <td>2022-06-21</td>\n",
       "      <td>Login Success</td>\n",
       "      <td>user</td>\n",
       "      <td>7044</td>\n",
       "    </tr>\n",
       "    <tr>\n",
       "      <th>28</th>\n",
       "      <td>55</td>\n",
       "      <td>2022-06-22</td>\n",
       "      <td>Login Success</td>\n",
       "      <td>user</td>\n",
       "      <td>5846</td>\n",
       "    </tr>\n",
       "    <tr>\n",
       "      <th>34</th>\n",
       "      <td>67</td>\n",
       "      <td>2022-06-23</td>\n",
       "      <td>Login Success</td>\n",
       "      <td>user</td>\n",
       "      <td>4356</td>\n",
       "    </tr>\n",
       "    <tr>\n",
       "      <th>41</th>\n",
       "      <td>80</td>\n",
       "      <td>2022-06-24</td>\n",
       "      <td>Login Success</td>\n",
       "      <td>user</td>\n",
       "      <td>2347</td>\n",
       "    </tr>\n",
       "    <tr>\n",
       "      <th>46</th>\n",
       "      <td>90</td>\n",
       "      <td>2022-06-25</td>\n",
       "      <td>Login Success</td>\n",
       "      <td>user</td>\n",
       "      <td>2961</td>\n",
       "    </tr>\n",
       "    <tr>\n",
       "      <th>51</th>\n",
       "      <td>100</td>\n",
       "      <td>2022-06-26</td>\n",
       "      <td>Login Success</td>\n",
       "      <td>user</td>\n",
       "      <td>998</td>\n",
       "    </tr>\n",
       "  </tbody>\n",
       "</table>\n",
       "</div>"
      ],
      "text/plain": [
       "      dt                                         \n",
       "   index          dt          token categ line_no\n",
       "1      3  2022-06-18  Login Success  user    6907\n",
       "8     15  2022-06-19  Login Success  user   37926\n",
       "15    27  2022-06-20  Login Success  user   10022\n",
       "21    42  2022-06-21  Login Success  user    7044\n",
       "28    55  2022-06-22  Login Success  user    5846\n",
       "34    67  2022-06-23  Login Success  user    4356\n",
       "41    80  2022-06-24  Login Success  user    2347\n",
       "46    90  2022-06-25  Login Success  user    2961\n",
       "51   100  2022-06-26  Login Success  user     998"
      ]
     },
     "execution_count": 42,
     "metadata": {},
     "output_type": "execute_result"
    }
   ],
   "source": [
    "logins = stats_all[stats_all.token == 'Login Success']\n",
    "logins.rename({'line_no':'# logins'}, inplace= True)\n",
    "emails_errors = stats_all[stats_all.token == 'MailSendException']\n",
    "emails_errors.rename({'line_no':'# email sending failiure'}, inplace= True)\n",
    "plt_data = pd.concat([logins, emails_errors], axis = 'columns', keys=['dt'])\n",
    "plt_data\n",
    "# plt_data.plot(x='dt')"
   ]
  },
  {
   "cell_type": "code",
   "execution_count": 37,
   "metadata": {},
   "outputs": [
    {
     "data": {
      "text/plain": [
       "<AxesSubplot:xlabel='dt'>"
      ]
     },
     "execution_count": 37,
     "metadata": {},
     "output_type": "execute_result"
    },
    {
     "data": {
      "image/png": "[encoded data removed]",
      "text/plain": [
       "<Figure size 432x288 with 1 Axes>"
      ]
     },
     "metadata": {
      "needs_background": "light"
     },
     "output_type": "display_data"
    },
    {
     "data": {
      "image/png": "[encoded data removed]",
      "text/plain": [
       "<Figure size 432x288 with 1 Axes>"
      ]
     },
     "metadata": {
      "needs_background": "light"
     },
     "output_type": "display_data"
    }
   ],
   "source": [
    "# stats\n",
    "# stats = pd.DataFrame()\n",
    "# stats = stats_all[['dt', 'line_no']]\n",
    "# stats['login'] = \n",
    "# stats_all[['dt', 'line_no']].loc[[stats_all['token'] == 'Login Success']]\n",
    "# stats_all[stats_all['token'] == 'Login Success']\n",
    "# stats['eMail Send Quota'] = stats_all[stats_all.token == 'MailSendException']\n",
    "# stats['dt'] = stats_all.dt\n",
    "stats_all[stats_all.token == 'Login Success'].plot(x='dt', y='line_no')\n",
    "stats_all[stats_all.token == 'MailSendException'].plot(x='dt', y='line_no')\n",
    "# stats.plot(x='dt', y='line_no')\n",
    "# stats\n"
   ]
  },
  {
   "cell_type": "code",
   "execution_count": 8,
   "metadata": {},
   "outputs": [
    {
     "data": {
      "text/plain": [
       "{'datetime': '2022_06_18_00_00_31_06AM',\n",
       " 'nid': 'Ù¢Ù¥Ù©Ù\\xa0Ù§Ù\\xa0Ù§Ù¢Ù¥Ù\\xa0Ù¡Ù¦Ù¥Ù©',\n",
       " 'Country': 'EG',\n",
       " 'Address': '156.209.129.10, 156.209.129.10',\n",
       " 'service': 'login',\n",
       " 'success': False}"
      ]
     },
     "execution_count": 8,
     "metadata": {},
     "output_type": "execute_result"
    }
   ],
   "source": [
    "import json\n",
    "s = '{\"datetime\":\"2022_06_18_00_00_31_06AM\",\"nid\":\"Ù¢Ù¥Ù©Ù Ù§Ù Ù§Ù¢Ù¥Ù Ù¡Ù¦Ù¥Ù©\",\"Country\":\"EG\",\"Address\":\"156.209.129.10, 156.209.129.10\",  \"service\":\"login\", \"success\":false}'\n",
    "res = json.loads(s)\n",
    "res"
   ]
  }
 ],
 "metadata": {
  "kernelspec": {
   "display_name": "Python 3.10.2 64-bit",
   "language": "python",
   "name": "python3"
  },
  "language_info": {
   "codemirror_mode": {
    "name": "ipython",
    "version": 3
   },
   "file_extension": ".py",
   "mimetype": "text/x-python",
   "name": "python",
   "nbconvert_exporter": "python",
   "pygments_lexer": "ipython3",
   "version": "3.10.2"
  },
  "orig_nbformat": 4,
  "vscode": {
   "interpreter": {
    "hash": "26de051ba29f2982a8de78e945f0abaf191376122a1563185a90213a26c5da77"
   }
  }
 },
 "nbformat": 4,
 "nbformat_minor": 2
}
