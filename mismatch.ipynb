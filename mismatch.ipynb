{
 "cells": [
  {
   "cell_type": "code",
   "execution_count": 2,
   "metadata": {},
   "outputs": [],
   "source": [
    "import pandas as pd\n",
    "import DB as db\n",
    "import numpy as np"
   ]
  },
  {
   "cell_type": "code",
   "execution_count": 3,
   "metadata": {},
   "outputs": [],
   "source": [
    "log_summary_file_name = r\"C:\\Users\\yahia\\OneDrive - Data and Transaction Services\\Python-data\\PortalLogs\\summary\\log summary-2022-12-11.zip\"\n",
    "log_summary_file_name = r\"C:\\Users\\yahia\\OneDrive - Data and Transaction Services\\Python-data\\PortalLogs\\summary\\log summary-2023-04-20.zip\"\n",
    "# log_summary_file_name = r\"C:\\Users\\yahia\\OneDrive - Data and Transaction Services\\Python-data\\PortalLogs\\summary\\log summary-2023-04-19.zip\"\n",
    "# log_summary_file_name = r\"C:\\Users\\yahia\\OneDrive - Data and Transaction Services\\Python-data\\PortalLogs\\summary\\log summary-2023-04-18.zip\"\n",
    "\n",
    "logdf= pd.read_csv(log_summary_file_name, low_memory=False).query(\"token == 'confirmLandReservation True'\")\\\n",
    "    .drop(columns=['node', 'task_id','project_id', 'error_line'])\n",
    "# logdf.head()"
   ]
  },
  {
   "cell_type": "code",
   "execution_count": 22,
   "metadata": {},
   "outputs": [
    {
     "data": {
      "text/html": [
       "<div>\n",
       "<style scoped>\n",
       "    .dataframe tbody tr th:only-of-type {\n",
       "        vertical-align: middle;\n",
       "    }\n",
       "\n",
       "    .dataframe tbody tr th {\n",
       "        vertical-align: top;\n",
       "    }\n",
       "\n",
       "    .dataframe thead th {\n",
       "        text-align: right;\n",
       "    }\n",
       "</style>\n",
       "<table border=\"1\" class=\"dataframe\">\n",
       "  <thead>\n",
       "    <tr style=\"text-align: right;\">\n",
       "      <th></th>\n",
       "      <th>log_date</th>\n",
       "      <th>line_no</th>\n",
       "      <th>NID</th>\n",
       "      <th>log_type</th>\n",
       "      <th>country</th>\n",
       "      <th>IP_address</th>\n",
       "      <th>service</th>\n",
       "      <th>token</th>\n",
       "      <th>categ</th>\n",
       "      <th>Gov</th>\n",
       "      <th>Land_ID</th>\n",
       "      <th>City</th>\n",
       "      <th>Region</th>\n",
       "      <th>District</th>\n",
       "      <th>Sub_District</th>\n",
       "      <th>Land_No</th>\n",
       "      <th>land_size</th>\n",
       "      <th>excellence_ratio</th>\n",
       "      <th>checksum</th>\n",
       "      <th>NA1</th>\n",
       "    </tr>\n",
       "  </thead>\n",
       "  <tbody>\n",
       "    <tr>\n",
       "      <th>69096</th>\n",
       "      <td>2023-04-20 10:16:43</td>\n",
       "      <td>3834604</td>\n",
       "      <td>26312132702012</td>\n",
       "      <td>ERROR</td>\n",
       "      <td>AE</td>\n",
       "      <td>217.165.114.211</td>\n",
       "      <td>confirmLandReservation</td>\n",
       "      <td>confirmLandReservation True</td>\n",
       "      <td>user</td>\n",
       "      <td>قنا</td>\n",
       "      <td>80487.0</td>\n",
       "      <td>قنا الجديدة</td>\n",
       "      <td>منطقة 600 فدان التوسعات الشرقية</td>\n",
       "      <td>-</td>\n",
       "      <td>الثانية</td>\n",
       "      <td>498.0</td>\n",
       "      <td>209.0</td>\n",
       "      <td>1.06</td>\n",
       "      <td>015975F7E08B1CA5FB85BE63226E492A48BDF0168BC5AE...</td>\n",
       "      <td>NaN</td>\n",
       "    </tr>\n",
       "    <tr>\n",
       "      <th>69098</th>\n",
       "      <td>2023-04-20 10:16:43</td>\n",
       "      <td>3834626</td>\n",
       "      <td>26312132702012</td>\n",
       "      <td>ERROR</td>\n",
       "      <td>EG</td>\n",
       "      <td>196.133.30.103</td>\n",
       "      <td>confirmLandReservation</td>\n",
       "      <td>confirmLandReservation True</td>\n",
       "      <td>user</td>\n",
       "      <td>قنا</td>\n",
       "      <td>80312.0</td>\n",
       "      <td>قنا الجديدة</td>\n",
       "      <td>منطقة 600 فدان التوسعات الشرقية</td>\n",
       "      <td>-</td>\n",
       "      <td>الثانية</td>\n",
       "      <td>241.0</td>\n",
       "      <td>209.0</td>\n",
       "      <td>1.06</td>\n",
       "      <td>017B780E3DC6A2E24581C9763DE7CE9BEE894EEC745246...</td>\n",
       "      <td>NaN</td>\n",
       "    </tr>\n",
       "  </tbody>\n",
       "</table>\n",
       "</div>"
      ],
      "text/plain": [
       "                  log_date  line_no             NID log_type country   \n",
       "69096  2023-04-20 10:16:43  3834604  26312132702012    ERROR      AE  \\\n",
       "69098  2023-04-20 10:16:43  3834626  26312132702012    ERROR      EG   \n",
       "\n",
       "            IP_address                 service                        token   \n",
       "69096  217.165.114.211  confirmLandReservation  confirmLandReservation True  \\\n",
       "69098   196.133.30.103  confirmLandReservation  confirmLandReservation True   \n",
       "\n",
       "      categ  Gov  Land_ID         City                           Region   \n",
       "69096  user  قنا  80487.0  قنا الجديدة  منطقة 600 فدان التوسعات الشرقية  \\\n",
       "69098  user  قنا  80312.0  قنا الجديدة  منطقة 600 فدان التوسعات الشرقية   \n",
       "\n",
       "      District Sub_District  Land_No  land_size  excellence_ratio   \n",
       "69096        -      الثانية    498.0      209.0              1.06  \\\n",
       "69098        -      الثانية    241.0      209.0              1.06   \n",
       "\n",
       "                                                checksum  NA1  \n",
       "69096  015975F7E08B1CA5FB85BE63226E492A48BDF0168BC5AE...  NaN  \n",
       "69098  017B780E3DC6A2E24581C9763DE7CE9BEE894EEC745246...  NaN  "
      ]
     },
     "execution_count": 22,
     "metadata": {},
     "output_type": "execute_result"
    }
   ],
   "source": [
    "# logdf.query(\"Land_ID in (80312, 80487)\")\n",
    "logdf.query(\"NID == '26312132702012'\")"
   ]
  },
  {
   "cell_type": "code",
   "execution_count": 11,
   "metadata": {},
   "outputs": [],
   "source": [
    "land_app_fn = r\"C:\\Users\\yahia\\Downloads\\land_Application.zip\"\n",
    "dbdf= pd.read_csv(land_app_fn, low_memory=False, dtype={'applicant_national_id':str})\\\n",
    "    .query(\"project_id == 86 and land_application_status == 'W'\")[['applicant_national_id', 'check_sum', 'land_id', 'project_id']]"
   ]
  },
  {
   "cell_type": "code",
   "execution_count": 18,
   "metadata": {},
   "outputs": [
    {
     "data": {
      "text/html": [
       "<div>\n",
       "<style scoped>\n",
       "    .dataframe tbody tr th:only-of-type {\n",
       "        vertical-align: middle;\n",
       "    }\n",
       "\n",
       "    .dataframe tbody tr th {\n",
       "        vertical-align: top;\n",
       "    }\n",
       "\n",
       "    .dataframe thead th {\n",
       "        text-align: right;\n",
       "    }\n",
       "</style>\n",
       "<table border=\"1\" class=\"dataframe\">\n",
       "  <thead>\n",
       "    <tr style=\"text-align: right;\">\n",
       "      <th></th>\n",
       "      <th>applicant_national_id</th>\n",
       "      <th>check_sum</th>\n",
       "      <th>land_id</th>\n",
       "      <th>project_id</th>\n",
       "    </tr>\n",
       "  </thead>\n",
       "  <tbody>\n",
       "  </tbody>\n",
       "</table>\n",
       "</div>"
      ],
      "text/plain": [
       "Empty DataFrame\n",
       "Columns: [applicant_national_id, check_sum, land_id, project_id]\n",
       "Index: []"
      ]
     },
     "execution_count": 18,
     "metadata": {},
     "output_type": "execute_result"
    }
   ],
   "source": [
    "dbdf.query(\"land_id == '80487'\")"
   ]
  },
  {
   "cell_type": "code",
   "execution_count": null,
   "metadata": {},
   "outputs": [],
   "source": [
    "df = (dbdf.merge(logdf, left_on='applicant_national_id', right_on='NID')\n",
    "      .assign(match = lambda x:(x.checksum == x.check_sum))\n",
    "    #   .fillna('land_id', axis=1)\n",
    "    #   .assign(land_id = lambda x: x.astype(np.int64) )\n",
    "    )\n",
    "df.info()"
   ]
  },
  {
   "cell_type": "code",
   "execution_count": 13,
   "metadata": {},
   "outputs": [
    {
     "data": {
      "text/plain": [
       "match\n",
       "True     410\n",
       "False      1\n",
       "Name: count, dtype: int64"
      ]
     },
     "execution_count": 13,
     "metadata": {},
     "output_type": "execute_result"
    }
   ],
   "source": [
    "df.match.value_counts()"
   ]
  },
  {
   "cell_type": "code",
   "execution_count": 16,
   "metadata": {},
   "outputs": [],
   "source": [
    "df.query(\"match == False\").assign(land_id = lambda x: x.land_id.astype(np.int64)).to_excel(r\"C:\\Users\\yahia\\Downloads\\mismatch.xlsx\")"
   ]
  },
  {
   "cell_type": "markdown",
   "metadata": {},
   "source": []
  }
 ],
 "metadata": {
  "kernelspec": {
   "display_name": "Python 3",
   "language": "python",
   "name": "python3"
  },
  "language_info": {
   "codemirror_mode": {
    "name": "ipython",
    "version": 3
   },
   "file_extension": ".py",
   "mimetype": "text/x-python",
   "name": "python",
   "nbconvert_exporter": "python",
   "pygments_lexer": "ipython3",
   "version": "3.10.2"
  },
  "orig_nbformat": 4
 },
 "nbformat": 4,
 "nbformat_minor": 2
}
