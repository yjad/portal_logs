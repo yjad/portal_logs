{
 "cells": [
  {
   "cell_type": "code",
   "execution_count": null,
   "metadata": {},
   "outputs": [],
   "source": [
    "import pandas as pd"
   ]
  },
  {
   "attachments": {},
   "cell_type": "markdown",
   "metadata": {},
   "source": [
    "# Test 1"
   ]
  },
  {
   "cell_type": "code",
   "execution_count": null,
   "metadata": {},
   "outputs": [],
   "source": [
    "fn = r\"C:\\Users\\yahia\\OneDrive - Data and Transaction Services\\DTS-data\\PortalLogs\\DB-summary\\log summary-2024-01-24.zip\"\n",
    "df = pd.read_csv(fn)"
   ]
  },
  {
   "cell_type": "code",
   "execution_count": null,
   "metadata": {},
   "outputs": [],
   "source": [
    "df.info()"
   ]
  },
  {
   "cell_type": "code",
   "execution_count": null,
   "metadata": {},
   "outputs": [],
   "source": [
    "pd.pivot_table(df.query(\"cmd == 'CALL'\"), index = 'proc_tbl', values = 'line_no', aggfunc='count', margins=False, fill_value=0).sort_index().reset_index()"
   ]
  },
  {
   "cell_type": "code",
   "execution_count": null,
   "metadata": {},
   "outputs": [],
   "source": [
    "# df.proc_tbl.value_counts()\n",
    "# df.query_type.value_counts()\n",
    "# df.cmd.value_counts()\n",
    "# pd.pivot_table(df.query(\"cmd == 'Call'\"), index = 'proc_tbl', columns='dt', values = 'line_no', aggfunc='count', margins=True, fill_value=0)\n",
    "no_of_refund_requests = df.query(\"proc_tbl == 'refundRequest'\").line_no.count()\n",
    "print ('no_of_refund_requests: ',no_of_refund_requests)\n",
    "df1 = df.loc[df.proc_tbl.fillna('X').isin(['getApplicationStatusList', 'getApplicantProjectslist', 'getApplicantRefundDetails','refundRequest' ])]\n",
    "pd.pivot_table(df1, index = 'proc_tbl', values = 'line_no', aggfunc='count', margins=False, fill_value=0)\n",
    "\n",
    "\n"
   ]
  },
  {
   "cell_type": "code",
   "execution_count": null,
   "metadata": {},
   "outputs": [],
   "source": [
    "# df.loc[df.proc_tbl.str.contains('getApplicantRefundDetails')].count()\n",
    "df.loc[df.proc_tbl.fillna('X').str.contains('getApplicantRefundDetails')].count()\n"
   ]
  },
  {
   "cell_type": "code",
   "execution_count": null,
   "metadata": {},
   "outputs": [],
   "source": [
    "df.query(\"proc_tbl.fillna('X').str.contains('Refund')\")"
   ]
  },
  {
   "cell_type": "code",
   "execution_count": null,
   "metadata": {},
   "outputs": [],
   "source": [
    "def x (a):\n",
    "    if type(a) == list:\n",
    "        for x in a:\n",
    "            yield x\n",
    "    else:\n",
    "        yield None\n",
    "        \n",
    "\n",
    "# xx = x([a for a in range(1,10)])\n",
    "xx = x(None)\n",
    "\n",
    "# cc = [x for x in xx]\n",
    "# cc[0]\n",
    "for x in xx:\n",
    "    print (x)"
   ]
  },
  {
   "cell_type": "code",
   "execution_count": null,
   "metadata": {},
   "outputs": [],
   "source": []
  }
 ],
 "metadata": {
  "kernelspec": {
   "display_name": "Python 3",
   "language": "python",
   "name": "python3"
  },
  "language_info": {
   "codemirror_mode": {
    "name": "ipython",
    "version": 3
   },
   "file_extension": ".py",
   "mimetype": "text/x-python",
   "name": "python",
   "nbconvert_exporter": "python",
   "pygments_lexer": "ipython3",
   "version": "3.11.4"
  },
  "orig_nbformat": 4
 },
 "nbformat": 4,
 "nbformat_minor": 2
}
