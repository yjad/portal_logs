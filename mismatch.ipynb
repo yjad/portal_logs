{
 "cells": [
  {
   "cell_type": "code",
   "execution_count": 2,
   "metadata": {},
   "outputs": [],
   "source": [
    "import pandas as pd\n",
    "import DB as db\n",
    "import numpy as np"
   ]
  },
  {
   "cell_type": "code",
   "execution_count": null,
   "metadata": {},
   "outputs": [],
   "source": [
    "log_summary_file_name = r\"C:\\Users\\yahia\\OneDrive - Data and Transaction Services\\Python-data\\PortalLogs\\summary\\log summary-2022-12-11.zip\"\n",
    "log_summary_file_name = r\"C:\\Users\\yahia\\OneDrive - Data and Transaction Services\\Python-data\\PortalLogs\\summary\\log summary-2023-04-20.zip\"\n",
    "# log_summary_file_name = r\"C:\\Users\\yahia\\OneDrive - Data and Transaction Services\\Python-data\\PortalLogs\\summary\\log summary-2023-04-19.zip\"\n",
    "# log_summary_file_name = r\"C:\\Users\\yahia\\OneDrive - Data and Transaction Services\\Python-data\\PortalLogs\\summary\\log summary-2023-04-18.zip\"\n",
    "\n",
    "logdf= pd.read_csv(log_summary_file_name, low_memory=False).query(\"token == 'confirmLandReservation True'\")\\\n",
    "    .drop(columns=['node', 'task_id','project_id', 'error_line'])\n",
    "# logdf.head()"
   ]
  },
  {
   "cell_type": "code",
   "execution_count": null,
   "metadata": {},
   "outputs": [],
   "source": [
    "# logdf.query(\"Land_ID in (80312, 80487)\")\n",
    "logdf.query(\"NID == '26312132702012'\")"
   ]
  },
  {
   "cell_type": "code",
   "execution_count": null,
   "metadata": {},
   "outputs": [],
   "source": [
    "land_app_fn = r\"C:\\Users\\yahia\\OneDrive - Data and Transaction Services\\Python-data\\PortalLogs\\DB-summary\\DB checksum\\NewQueryLand.zip\"\n",
    "land_app_fn =r\"C:\\Users\\yahia\\OneDrive - Data and Transaction Services\\Python-data\\PortalLogs\\checksum\\NewQueryLand.zip\"\n",
    "dbdf= pd.read_csv(land_app_fn, low_memory=False, dtype={'applicant_national_id':str}).query(\"project_id == 86\")\n",
    "    # .query(\"project_id == 86 and land_application_status == 'W'\")[['applicant_national_id', 'check_sum', 'land_id', 'project_id']]"
   ]
  },
  {
   "cell_type": "code",
   "execution_count": null,
   "metadata": {},
   "outputs": [],
   "source": [
    "dbdf.query(\"land_id == '80487'\")"
   ]
  },
  {
   "cell_type": "code",
   "execution_count": null,
   "metadata": {},
   "outputs": [],
   "source": [
    "df = (dbdf.merge(logdf, left_on='applicant_national_id', right_on='NID')\n",
    "      .assign(match = lambda x:(x.checksum == x.check_sum))\n",
    "    #   .fillna('land_id', axis=1)\n",
    "    #   .assign(land_id = lambda x: x.astype(np.int64) )\n",
    "    )\n",
    "# df.info()"
   ]
  },
  {
   "cell_type": "code",
   "execution_count": null,
   "metadata": {},
   "outputs": [],
   "source": [
    "df.match.value_counts()"
   ]
  },
  {
   "cell_type": "code",
   "execution_count": null,
   "metadata": {},
   "outputs": [],
   "source": [
    "df.query(\"match == False\").assign(land_id = lambda x: x.land_id.astype(np.int64)).to_excel(r\"C:\\Users\\yahia\\Downloads\\mismatch.xlsx\")"
   ]
  },
  {
   "attachments": {},
   "cell_type": "markdown",
   "metadata": {},
   "source": [
    "## UNITS"
   ]
  },
  {
   "attachments": {},
   "cell_type": "markdown",
   "metadata": {},
   "source": []
  },
  {
   "cell_type": "code",
   "execution_count": 10,
   "metadata": {},
   "outputs": [],
   "source": [
    "log_summary_file_name = r\"C:\\Users\\yahia\\OneDrive - Data and Transaction Services\\Python-data\\PortalLogs\\summary\\log summary-2023-02-07.zip\"\n",
    "\n",
    "logdf= pd.read_csv(log_summary_file_name, low_memory=False, dtype={'NID':str}).query(\"token == 'confirmReservation True'\")\\\n",
    "    .drop(columns=['node', 'task_id','project_id', 'error_line'])\n",
    "\n"
   ]
  },
  {
   "cell_type": "code",
   "execution_count": 11,
   "metadata": {},
   "outputs": [
    {
     "data": {
      "text/html": [
       "<div>\n",
       "<style scoped>\n",
       "    .dataframe tbody tr th:only-of-type {\n",
       "        vertical-align: middle;\n",
       "    }\n",
       "\n",
       "    .dataframe tbody tr th {\n",
       "        vertical-align: top;\n",
       "    }\n",
       "\n",
       "    .dataframe thead th {\n",
       "        text-align: right;\n",
       "    }\n",
       "</style>\n",
       "<table border=\"1\" class=\"dataframe\">\n",
       "  <thead>\n",
       "    <tr style=\"text-align: right;\">\n",
       "      <th></th>\n",
       "      <th>log_date</th>\n",
       "      <th>line_no</th>\n",
       "      <th>NID</th>\n",
       "      <th>log_type</th>\n",
       "      <th>country</th>\n",
       "      <th>IP_address</th>\n",
       "      <th>service</th>\n",
       "      <th>token</th>\n",
       "      <th>categ</th>\n",
       "      <th>Gov</th>\n",
       "      <th>City</th>\n",
       "      <th>Region</th>\n",
       "      <th>District</th>\n",
       "      <th>Sub_District</th>\n",
       "      <th>Floor_No</th>\n",
       "      <th>building_no</th>\n",
       "      <th>Unit_No</th>\n",
       "      <th>Unit_Model</th>\n",
       "      <th>Unit_ID</th>\n",
       "      <th>checksum</th>\n",
       "    </tr>\n",
       "  </thead>\n",
       "  <tbody>\n",
       "    <tr>\n",
       "      <th>42650</th>\n",
       "      <td>2023-02-07 10:32:58</td>\n",
       "      <td>6012965</td>\n",
       "      <td>26411200102736</td>\n",
       "      <td>ERROR</td>\n",
       "      <td>EG</td>\n",
       "      <td>197.162.113.115</td>\n",
       "      <td>confirmReservation</td>\n",
       "      <td>confirmReservation True</td>\n",
       "      <td>user</td>\n",
       "      <td>القاهرة</td>\n",
       "      <td>القاهرة الجديدة</td>\n",
       "      <td>نزهة الأندلس عمارات مدخل (أ)</td>\n",
       "      <td>NaN</td>\n",
       "      <td>NaN</td>\n",
       "      <td>0.0</td>\n",
       "      <td>15.0</td>\n",
       "      <td>17.0</td>\n",
       "      <td>-</td>\n",
       "      <td>157427.0</td>\n",
       "      <td>0141997DCF07912E00BFFCD7637391BB3E6EDC64E6D1FB...</td>\n",
       "    </tr>\n",
       "  </tbody>\n",
       "</table>\n",
       "</div>"
      ],
      "text/plain": [
       "                  log_date  line_no             NID log_type country   \n",
       "42650  2023-02-07 10:32:58  6012965  26411200102736    ERROR      EG  \\\n",
       "\n",
       "            IP_address             service                    token categ   \n",
       "42650  197.162.113.115  confirmReservation  confirmReservation True  user  \\\n",
       "\n",
       "           Gov             City                        Region  District   \n",
       "42650  القاهرة  القاهرة الجديدة  نزهة الأندلس عمارات مدخل (أ)       NaN  \\\n",
       "\n",
       "       Sub_District  Floor_No  building_no  Unit_No Unit_Model   Unit_ID   \n",
       "42650           NaN       0.0         15.0     17.0          -  157427.0  \\\n",
       "\n",
       "                                                checksum  \n",
       "42650  0141997DCF07912E00BFFCD7637391BB3E6EDC64E6D1FB...  "
      ]
     },
     "execution_count": 11,
     "metadata": {},
     "output_type": "execute_result"
    }
   ],
   "source": [
    "logdf.query(\"NID == '26411200102736'\")"
   ]
  },
  {
   "cell_type": "code",
   "execution_count": null,
   "metadata": {},
   "outputs": [],
   "source": [
    "logdf.token.value_counts()\n",
    "logdf.to_csv('./out/mis_log.csv')"
   ]
  },
  {
   "cell_type": "code",
   "execution_count": 4,
   "metadata": {},
   "outputs": [],
   "source": [
    "unit_app_fn = r\"C:\\Users\\yahia\\OneDrive - Data and Transaction Services\\Python-data\\PortalLogs\\checksum\\checksum.zip\"\n",
    "dbdf= pd.read_csv(unit_app_fn, low_memory=False, dtype={'applicant_national_id':str}).query(\"project_id == 87\")"
   ]
  },
  {
   "cell_type": "code",
   "execution_count": 5,
   "metadata": {},
   "outputs": [
    {
     "data": {
      "text/html": [
       "<div>\n",
       "<style scoped>\n",
       "    .dataframe tbody tr th:only-of-type {\n",
       "        vertical-align: middle;\n",
       "    }\n",
       "\n",
       "    .dataframe tbody tr th {\n",
       "        vertical-align: top;\n",
       "    }\n",
       "\n",
       "    .dataframe thead th {\n",
       "        text-align: right;\n",
       "    }\n",
       "</style>\n",
       "<table border=\"1\" class=\"dataframe\">\n",
       "  <thead>\n",
       "    <tr style=\"text-align: right;\">\n",
       "      <th></th>\n",
       "      <th>project_id</th>\n",
       "      <th>applicant_national_id</th>\n",
       "      <th>check_sum</th>\n",
       "      <th>land_id</th>\n",
       "    </tr>\n",
       "  </thead>\n",
       "  <tbody>\n",
       "    <tr>\n",
       "      <th>37689</th>\n",
       "      <td>87</td>\n",
       "      <td>26411200102736</td>\n",
       "      <td>0141997DCF07912E00BFFCD7637391BB3E6EDC64E6D1FB...</td>\n",
       "      <td>157427</td>\n",
       "    </tr>\n",
       "  </tbody>\n",
       "</table>\n",
       "</div>"
      ],
      "text/plain": [
       "       project_id applicant_national_id   \n",
       "37689          87        26411200102736  \\\n",
       "\n",
       "                                               check_sum  land_id  \n",
       "37689  0141997DCF07912E00BFFCD7637391BB3E6EDC64E6D1FB...   157427  "
      ]
     },
     "execution_count": 5,
     "metadata": {},
     "output_type": "execute_result"
    }
   ],
   "source": [
    "dbdf.query(\"applicant_national_id == '26411200102736'\")"
   ]
  },
  {
   "cell_type": "code",
   "execution_count": null,
   "metadata": {},
   "outputs": [],
   "source": [
    "dbdf.project_id.value_counts().sort_index(ascending=False)"
   ]
  },
  {
   "cell_type": "code",
   "execution_count": null,
   "metadata": {},
   "outputs": [],
   "source": [
    "dbdf.any()"
   ]
  },
  {
   "cell_type": "code",
   "execution_count": null,
   "metadata": {},
   "outputs": [],
   "source": [
    "df = (dbdf.merge(logdf, how='outer', left_on='applicant_national_id', right_on='NID')\n",
    "      # .assign(match = lambda x:(x.checksum == x.check_sum))\n",
    ")\n"
   ]
  },
  {
   "cell_type": "code",
   "execution_count": null,
   "metadata": {},
   "outputs": [],
   "source": [
    "df.to_csv('./out/checksum.csv')"
   ]
  },
  {
   "cell_type": "code",
   "execution_count": null,
   "metadata": {},
   "outputs": [],
   "source": [
    "df.match.value_counts()"
   ]
  },
  {
   "cell_type": "code",
   "execution_count": null,
   "metadata": {},
   "outputs": [],
   "source": [
    "df.query(\"match == False\").assign(unit_id = lambda x: x.unit_id.astype(np.int64))[['NID', 'check_sum', 'checksum']]\n",
    "#.to_excel(r\"C:\\Users\\yahia\\Downloads\\mismatch.xlsx\")"
   ]
  },
  {
   "cell_type": "code",
   "execution_count": 23,
   "metadata": {},
   "outputs": [
    {
     "data": {
      "text/plain": [
       "['اسيوط',\n",
       " None,\n",
       " 'أسيوط الجديدة',\n",
       " 'الحي الثاني',\n",
       " 'الحي الثاني',\n",
       " '-',\n",
       " '9',\n",
       " '475',\n",
       " '1.130',\n",
       " '0103DC22A4DB25EF9FA81B39D8CED893F0A0411335A2FB2D29A3BE87E95FFA1584']"
      ]
     },
     "execution_count": 23,
     "metadata": {},
     "output_type": "execute_result"
    }
   ],
   "source": [
    "import json\n",
    "log = \"\"\"{\"datetime\":\"2022-12-25T10:00:29.863\",\"nid\":28809142602376, \"Country\":\"EG\",\"Address\":\"156.192.68.49, 156.192.68.49\", \"service\":\"confirmLandReservation\", \"success\":true,\"details\":{\"Gov\":\"اسيوط\",\"City\":\"أسيوط الجديدة\",\"Region\":\"الحي الثاني\",\"District\":\"الحي الثاني\",\"Sub_District\":\"-\",\"Land_No\":\"9\",\"land_size\":\"475\",\"excellence_ratio\":\"1.130\",\"checksum\":\"0103DC22A4DB25EF9FA81B39D8CED893F0A0411335A2FB2D29A3BE87E95FFA1584\"}}\"\"\"\n",
    "res = json.loads(log)\n",
    "res\n",
    "# d = (res.get('details'))\n",
    "det_lst = list(res.get('details').values())\n",
    "if not res.get('details').get('Land_ID'):\n",
    "    det_lst.insert(1,None)\n",
    "\n"
   ]
  },
  {
   "cell_type": "code",
   "execution_count": null,
   "metadata": {},
   "outputs": [],
   "source": []
  }
 ],
 "metadata": {
  "kernelspec": {
   "display_name": "Python 3",
   "language": "python",
   "name": "python3"
  },
  "language_info": {
   "codemirror_mode": {
    "name": "ipython",
    "version": 3
   },
   "file_extension": ".py",
   "mimetype": "text/x-python",
   "name": "python",
   "nbconvert_exporter": "python",
   "pygments_lexer": "ipython3",
   "version": "3.10.2"
  },
  "orig_nbformat": 4
 },
 "nbformat": 4,
 "nbformat_minor": 2
}
