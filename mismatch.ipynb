{
 "cells": [
  {
   "cell_type": "code",
   "execution_count": 2,
   "metadata": {},
   "outputs": [],
   "source": [
    "import pandas as pd\n",
    "# import DB as db\n",
    "import numpy as np"
   ]
  },
  {
   "attachments": {},
   "cell_type": "markdown",
   "metadata": {},
   "source": [
    "# test 1"
   ]
  },
  {
   "cell_type": "code",
   "execution_count": null,
   "metadata": {},
   "outputs": [],
   "source": [
    "log_summary_file_name = r\"C:\\Users\\yahia\\OneDrive - Data and Transaction Services\\Python-data\\PortalLogs\\summary\\log summary-2022-12-11.zip\"\n",
    "log_summary_file_name = r\"C:\\Users\\yahia\\OneDrive - Data and Transaction Services\\Python-data\\PortalLogs\\summary\\log summary-2023-04-20.zip\"\n",
    "# log_summary_file_name = r\"C:\\Users\\yahia\\OneDrive - Data and Transaction Services\\Python-data\\PortalLogs\\summary\\log summary-2023-04-19.zip\"\n",
    "# log_summary_file_name = r\"C:\\Users\\yahia\\OneDrive - Data and Transaction Services\\Python-data\\PortalLogs\\summary\\log summary-2023-04-18.zip\"\n",
    "\n",
    "logdf= pd.read_csv(log_summary_file_name, low_memory=False).query(\"token == 'confirmLandReservation True'\")\\\n",
    "    .drop(columns=['node', 'task_id','project_id', 'error_line'])\n",
    "# logdf.head()"
   ]
  },
  {
   "cell_type": "code",
   "execution_count": null,
   "metadata": {},
   "outputs": [],
   "source": [
    "# logdf.query(\"Land_ID in (80312, 80487)\")\n",
    "logdf.query(\"NID == '26312132702012'\")"
   ]
  },
  {
   "cell_type": "code",
   "execution_count": null,
   "metadata": {},
   "outputs": [],
   "source": [
    "land_app_fn = r\"C:\\Users\\yahia\\OneDrive - Data and Transaction Services\\Python-data\\PortalLogs\\DB-summary\\DB checksum\\NewQueryLand.zip\"\n",
    "land_app_fn =r\"C:\\Users\\yahia\\OneDrive - Data and Transaction Services\\Python-data\\PortalLogs\\checksum\\NewQueryLand.zip\"\n",
    "dbdf= pd.read_csv(land_app_fn, low_memory=False, dtype={'applicant_national_id':str}).query(\"project_id == 86\")\n",
    "    # .query(\"project_id == 86 and land_application_status == 'W'\")[['applicant_national_id', 'check_sum', 'land_id', 'project_id']]"
   ]
  },
  {
   "cell_type": "code",
   "execution_count": null,
   "metadata": {},
   "outputs": [],
   "source": [
    "dbdf.query(\"land_id == '80487'\")"
   ]
  },
  {
   "cell_type": "code",
   "execution_count": null,
   "metadata": {},
   "outputs": [],
   "source": [
    "df = (dbdf.merge(logdf, left_on='applicant_national_id', right_on='NID')\n",
    "      .assign(match = lambda x:(x.checksum == x.check_sum))\n",
    "    #   .fillna('land_id', axis=1)\n",
    "    #   .assign(land_id = lambda x: x.astype(np.int64) )\n",
    "    )\n",
    "# df.info()"
   ]
  },
  {
   "cell_type": "code",
   "execution_count": null,
   "metadata": {},
   "outputs": [],
   "source": [
    "df.match.value_counts()"
   ]
  },
  {
   "cell_type": "code",
   "execution_count": null,
   "metadata": {},
   "outputs": [],
   "source": [
    "df.query(\"match == False\").assign(land_id = lambda x: x.land_id.astype(np.int64)).to_excel(r\"C:\\Users\\yahia\\Downloads\\mismatch.xlsx\")"
   ]
  },
  {
   "attachments": {},
   "cell_type": "markdown",
   "metadata": {},
   "source": [
    "## UNITS"
   ]
  },
  {
   "attachments": {},
   "cell_type": "markdown",
   "metadata": {},
   "source": []
  },
  {
   "cell_type": "code",
   "execution_count": 10,
   "metadata": {},
   "outputs": [],
   "source": [
    "log_summary_file_name = r\"C:\\Users\\yahia\\OneDrive - Data and Transaction Services\\Python-data\\PortalLogs\\summary\\log summary-2023-02-07.zip\"\n",
    "\n",
    "logdf= pd.read_csv(log_summary_file_name, low_memory=False, dtype={'NID':str}).query(\"token == 'confirmReservation True'\")\\\n",
    "    .drop(columns=['node', 'task_id','project_id', 'error_line'])\n",
    "\n"
   ]
  },
  {
   "cell_type": "code",
   "execution_count": 11,
   "metadata": {},
   "outputs": [
    {
     "data": {
      "text/html": [
       "<div>\n",
       "<style scoped>\n",
       "    .dataframe tbody tr th:only-of-type {\n",
       "        vertical-align: middle;\n",
       "    }\n",
       "\n",
       "    .dataframe tbody tr th {\n",
       "        vertical-align: top;\n",
       "    }\n",
       "\n",
       "    .dataframe thead th {\n",
       "        text-align: right;\n",
       "    }\n",
       "</style>\n",
       "<table border=\"1\" class=\"dataframe\">\n",
       "  <thead>\n",
       "    <tr style=\"text-align: right;\">\n",
       "      <th></th>\n",
       "      <th>log_date</th>\n",
       "      <th>line_no</th>\n",
       "      <th>NID</th>\n",
       "      <th>log_type</th>\n",
       "      <th>country</th>\n",
       "      <th>IP_address</th>\n",
       "      <th>service</th>\n",
       "      <th>token</th>\n",
       "      <th>categ</th>\n",
       "      <th>Gov</th>\n",
       "      <th>City</th>\n",
       "      <th>Region</th>\n",
       "      <th>District</th>\n",
       "      <th>Sub_District</th>\n",
       "      <th>Floor_No</th>\n",
       "      <th>building_no</th>\n",
       "      <th>Unit_No</th>\n",
       "      <th>Unit_Model</th>\n",
       "      <th>Unit_ID</th>\n",
       "      <th>checksum</th>\n",
       "    </tr>\n",
       "  </thead>\n",
       "  <tbody>\n",
       "    <tr>\n",
       "      <th>42650</th>\n",
       "      <td>2023-02-07 10:32:58</td>\n",
       "      <td>6012965</td>\n",
       "      <td>26411200102736</td>\n",
       "      <td>ERROR</td>\n",
       "      <td>EG</td>\n",
       "      <td>197.162.113.115</td>\n",
       "      <td>confirmReservation</td>\n",
       "      <td>confirmReservation True</td>\n",
       "      <td>user</td>\n",
       "      <td>القاهرة</td>\n",
       "      <td>القاهرة الجديدة</td>\n",
       "      <td>نزهة الأندلس عمارات مدخل (أ)</td>\n",
       "      <td>NaN</td>\n",
       "      <td>NaN</td>\n",
       "      <td>0.0</td>\n",
       "      <td>15.0</td>\n",
       "      <td>17.0</td>\n",
       "      <td>-</td>\n",
       "      <td>157427.0</td>\n",
       "      <td>0141997DCF07912E00BFFCD7637391BB3E6EDC64E6D1FB...</td>\n",
       "    </tr>\n",
       "  </tbody>\n",
       "</table>\n",
       "</div>"
      ],
      "text/plain": [
       "                  log_date  line_no             NID log_type country   \n",
       "42650  2023-02-07 10:32:58  6012965  26411200102736    ERROR      EG  \\\n",
       "\n",
       "            IP_address             service                    token categ   \n",
       "42650  197.162.113.115  confirmReservation  confirmReservation True  user  \\\n",
       "\n",
       "           Gov             City                        Region  District   \n",
       "42650  القاهرة  القاهرة الجديدة  نزهة الأندلس عمارات مدخل (أ)       NaN  \\\n",
       "\n",
       "       Sub_District  Floor_No  building_no  Unit_No Unit_Model   Unit_ID   \n",
       "42650           NaN       0.0         15.0     17.0          -  157427.0  \\\n",
       "\n",
       "                                                checksum  \n",
       "42650  0141997DCF07912E00BFFCD7637391BB3E6EDC64E6D1FB...  "
      ]
     },
     "execution_count": 11,
     "metadata": {},
     "output_type": "execute_result"
    }
   ],
   "source": [
    "logdf.query(\"NID == '26411200102736'\")"
   ]
  },
  {
   "cell_type": "code",
   "execution_count": null,
   "metadata": {},
   "outputs": [],
   "source": [
    "logdf.token.value_counts()\n",
    "logdf.to_csv('./out/mis_log.csv')"
   ]
  },
  {
   "cell_type": "code",
   "execution_count": 4,
   "metadata": {},
   "outputs": [],
   "source": [
    "unit_app_fn = r\"C:\\Users\\yahia\\OneDrive - Data and Transaction Services\\Python-data\\PortalLogs\\checksum\\checksum.zip\"\n",
    "dbdf= pd.read_csv(unit_app_fn, low_memory=False, dtype={'applicant_national_id':str}).query(\"project_id == 87\")"
   ]
  },
  {
   "cell_type": "code",
   "execution_count": 5,
   "metadata": {},
   "outputs": [
    {
     "data": {
      "text/html": [
       "<div>\n",
       "<style scoped>\n",
       "    .dataframe tbody tr th:only-of-type {\n",
       "        vertical-align: middle;\n",
       "    }\n",
       "\n",
       "    .dataframe tbody tr th {\n",
       "        vertical-align: top;\n",
       "    }\n",
       "\n",
       "    .dataframe thead th {\n",
       "        text-align: right;\n",
       "    }\n",
       "</style>\n",
       "<table border=\"1\" class=\"dataframe\">\n",
       "  <thead>\n",
       "    <tr style=\"text-align: right;\">\n",
       "      <th></th>\n",
       "      <th>project_id</th>\n",
       "      <th>applicant_national_id</th>\n",
       "      <th>check_sum</th>\n",
       "      <th>land_id</th>\n",
       "    </tr>\n",
       "  </thead>\n",
       "  <tbody>\n",
       "    <tr>\n",
       "      <th>37689</th>\n",
       "      <td>87</td>\n",
       "      <td>26411200102736</td>\n",
       "      <td>0141997DCF07912E00BFFCD7637391BB3E6EDC64E6D1FB...</td>\n",
       "      <td>157427</td>\n",
       "    </tr>\n",
       "  </tbody>\n",
       "</table>\n",
       "</div>"
      ],
      "text/plain": [
       "       project_id applicant_national_id   \n",
       "37689          87        26411200102736  \\\n",
       "\n",
       "                                               check_sum  land_id  \n",
       "37689  0141997DCF07912E00BFFCD7637391BB3E6EDC64E6D1FB...   157427  "
      ]
     },
     "execution_count": 5,
     "metadata": {},
     "output_type": "execute_result"
    }
   ],
   "source": [
    "dbdf.query(\"applicant_national_id == '26411200102736'\")"
   ]
  },
  {
   "cell_type": "code",
   "execution_count": null,
   "metadata": {},
   "outputs": [],
   "source": [
    "dbdf.project_id.value_counts().sort_index(ascending=False)"
   ]
  },
  {
   "cell_type": "code",
   "execution_count": null,
   "metadata": {},
   "outputs": [],
   "source": [
    "dbdf.any()"
   ]
  },
  {
   "cell_type": "code",
   "execution_count": null,
   "metadata": {},
   "outputs": [],
   "source": [
    "df = (dbdf.merge(logdf, how='outer', left_on='applicant_national_id', right_on='NID')\n",
    "      # .assign(match = lambda x:(x.checksum == x.check_sum))\n",
    ")\n"
   ]
  },
  {
   "cell_type": "code",
   "execution_count": null,
   "metadata": {},
   "outputs": [],
   "source": [
    "df.to_csv('./out/checksum.csv')"
   ]
  },
  {
   "cell_type": "code",
   "execution_count": null,
   "metadata": {},
   "outputs": [],
   "source": [
    "df.match.value_counts()"
   ]
  },
  {
   "cell_type": "code",
   "execution_count": null,
   "metadata": {},
   "outputs": [],
   "source": [
    "df.query(\"match == False\").assign(unit_id = lambda x: x.unit_id.astype(np.int64))[['NID', 'check_sum', 'checksum']]\n",
    "#.to_excel(r\"C:\\Users\\yahia\\Downloads\\mismatch.xlsx\")"
   ]
  },
  {
   "attachments": {},
   "cell_type": "markdown",
   "metadata": {},
   "source": [
    "# LE04"
   ]
  },
  {
   "cell_type": "code",
   "execution_count": 6,
   "metadata": {},
   "outputs": [],
   "source": [
    "le04 = pd.read_excel(r\"C:\\Users\\yahia\\Downloads\\le04.xls\", skiprows=1)"
   ]
  },
  {
   "cell_type": "code",
   "execution_count": 19,
   "metadata": {},
   "outputs": [
    {
     "data": {
      "text/html": [
       "<div>\n",
       "<style scoped>\n",
       "    .dataframe tbody tr th:only-of-type {\n",
       "        vertical-align: middle;\n",
       "    }\n",
       "\n",
       "    .dataframe tbody tr th {\n",
       "        vertical-align: top;\n",
       "    }\n",
       "\n",
       "    .dataframe thead th {\n",
       "        text-align: right;\n",
       "    }\n",
       "</style>\n",
       "<table border=\"1\" class=\"dataframe\">\n",
       "  <thead>\n",
       "    <tr style=\"text-align: right;\">\n",
       "      <th></th>\n",
       "      <th>excellence_ratio</th>\n",
       "      <th>land_size</th>\n",
       "      <th>Land_No</th>\n",
       "      <th>Sub_District</th>\n",
       "      <th>NID</th>\n",
       "    </tr>\n",
       "  </thead>\n",
       "  <tbody>\n",
       "    <tr>\n",
       "      <th>0</th>\n",
       "      <td>1.08</td>\n",
       "      <td>276</td>\n",
       "      <td>182</td>\n",
       "      <td>47</td>\n",
       "      <td>28809072601377</td>\n",
       "    </tr>\n",
       "    <tr>\n",
       "      <th>1</th>\n",
       "      <td>1.06</td>\n",
       "      <td>312</td>\n",
       "      <td>495</td>\n",
       "      <td>49</td>\n",
       "      <td>28603262601252</td>\n",
       "    </tr>\n",
       "    <tr>\n",
       "      <th>2</th>\n",
       "      <td>1.04</td>\n",
       "      <td>209</td>\n",
       "      <td>451</td>\n",
       "      <td>22</td>\n",
       "      <td>28205232600418</td>\n",
       "    </tr>\n",
       "    <tr>\n",
       "      <th>3</th>\n",
       "      <td>1.00</td>\n",
       "      <td>287</td>\n",
       "      <td>237</td>\n",
       "      <td>4</td>\n",
       "      <td>30110082502313</td>\n",
       "    </tr>\n",
       "    <tr>\n",
       "      <th>4</th>\n",
       "      <td>1.13</td>\n",
       "      <td>209</td>\n",
       "      <td>872</td>\n",
       "      <td>3</td>\n",
       "      <td>29003012503456</td>\n",
       "    </tr>\n",
       "    <tr>\n",
       "      <th>...</th>\n",
       "      <td>...</td>\n",
       "      <td>...</td>\n",
       "      <td>...</td>\n",
       "      <td>...</td>\n",
       "      <td>...</td>\n",
       "    </tr>\n",
       "    <tr>\n",
       "      <th>7316</th>\n",
       "      <td>1.02</td>\n",
       "      <td>209</td>\n",
       "      <td>314</td>\n",
       "      <td>2</td>\n",
       "      <td>26407272100846</td>\n",
       "    </tr>\n",
       "    <tr>\n",
       "      <th>7317</th>\n",
       "      <td>1.09</td>\n",
       "      <td>209</td>\n",
       "      <td>409</td>\n",
       "      <td>1</td>\n",
       "      <td>28602012110508</td>\n",
       "    </tr>\n",
       "    <tr>\n",
       "      <th>7318</th>\n",
       "      <td>1.12</td>\n",
       "      <td>209</td>\n",
       "      <td>17</td>\n",
       "      <td>3</td>\n",
       "      <td>28501082500159</td>\n",
       "    </tr>\n",
       "    <tr>\n",
       "      <th>7319</th>\n",
       "      <td>1.00</td>\n",
       "      <td>287</td>\n",
       "      <td>20</td>\n",
       "      <td>4</td>\n",
       "      <td>29408072500391</td>\n",
       "    </tr>\n",
       "    <tr>\n",
       "      <th>7320</th>\n",
       "      <td>1.06</td>\n",
       "      <td>353</td>\n",
       "      <td>351</td>\n",
       "      <td>4</td>\n",
       "      <td>26806012500192</td>\n",
       "    </tr>\n",
       "  </tbody>\n",
       "</table>\n",
       "<p>7321 rows × 5 columns</p>\n",
       "</div>"
      ],
      "text/plain": [
       "      excellence_ratio  land_size  Land_No  Sub_District             NID\n",
       "0                 1.08        276      182            47  28809072601377\n",
       "1                 1.06        312      495            49  28603262601252\n",
       "2                 1.04        209      451            22  28205232600418\n",
       "3                 1.00        287      237             4  30110082502313\n",
       "4                 1.13        209      872             3  29003012503456\n",
       "...                ...        ...      ...           ...             ...\n",
       "7316              1.02        209      314             2  26407272100846\n",
       "7317              1.09        209      409             1  28602012110508\n",
       "7318              1.12        209       17             3  28501082500159\n",
       "7319              1.00        287       20             4  29408072500391\n",
       "7320              1.06        353      351             4  26806012500192\n",
       "\n",
       "[7321 rows x 5 columns]"
      ]
     },
     "execution_count": 19,
     "metadata": {},
     "output_type": "execute_result"
    }
   ],
   "source": [
    "le04.iloc[:,[0,1,2,3,17]].rename({\n",
    "    'نسبة التميز': 'excellence_ratio',\n",
    "    'مساحة الأرض':'land_size',\n",
    "    'رقم الأرض':'Land_No',\n",
    "    'كود المجاورة':'Sub_District',\n",
    "    'الرقم القومى':'NID'\n",
    "}, axis=1)\n"
   ]
  },
  {
   "cell_type": "code",
   "execution_count": null,
   "metadata": {},
   "outputs": [],
   "source": []
  }
 ],
 "metadata": {
  "kernelspec": {
   "display_name": "Python 3",
   "language": "python",
   "name": "python3"
  },
  "language_info": {
   "codemirror_mode": {
    "name": "ipython",
    "version": 3
   },
   "file_extension": ".py",
   "mimetype": "text/x-python",
   "name": "python",
   "nbconvert_exporter": "python",
   "pygments_lexer": "ipython3",
   "version": "3.10.2"
  },
  "orig_nbformat": 4
 },
 "nbformat": 4,
 "nbformat_minor": 2
}
