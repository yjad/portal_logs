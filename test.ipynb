{
 "cells": [
  {
   "cell_type": "code",
   "execution_count": 1,
   "metadata": {},
   "outputs": [],
   "source": [
    "import pandas as pd\n",
    "import os\n",
    "# import lxml\n",
    "import DB as db"
   ]
  },
  {
   "cell_type": "code",
   "execution_count": 37,
   "metadata": {},
   "outputs": [],
   "source": [
    "projects= (66, 67, 68, 69)\n",
    "# files = ('Results-66.txt', 'Results-67.txt', 'Results-68.txt', 'Results-69.txt')\n",
    "dir = r\"C:\\Users\\yahia\\OneDrive - Data and Transaction Services\\Projects\\Realestate Reservation Portal\\5- Operation\\Incident reports\\change land-no\\checksum\"\n",
    "\n",
    "lst = []\n",
    "for p in projects:\n",
    "\n",
    "    fpath = os.path.join(dir, f\"Results-{p}.txt\") \n",
    "    with open(fpath, 'rt') as f:\n",
    "        while(True):\n",
    "            line = f.readline()\n",
    "            if not line: break\n",
    "            if line[:5] in ('-----', '     '): continue\n",
    "            NID = line[25:39]\n",
    "            land_id = line[51:56]\n",
    "            res_no = line[79:93]\n",
    "            valid = line[98:106].strip()\n",
    "            rec = [p, NID, land_id, res_no, valid]\n",
    "            lst.append(rec)\n",
    "\n",
    "df = pd.DataFrame(data=lst, columns=['project', 'NID', 'land_id', 'reservation_no', 'valid'])\n",
    "df.to_csv('./out/checksum.csv')"
   ]
  },
  {
   "cell_type": "code",
   "execution_count": 30,
   "metadata": {},
   "outputs": [
    {
     "data": {
      "text/html": [
       "<div>\n",
       "<style scoped>\n",
       "    .dataframe tbody tr th:only-of-type {\n",
       "        vertical-align: middle;\n",
       "    }\n",
       "\n",
       "    .dataframe tbody tr th {\n",
       "        vertical-align: top;\n",
       "    }\n",
       "\n",
       "    .dataframe thead th {\n",
       "        text-align: right;\n",
       "    }\n",
       "</style>\n",
       "<table border=\"1\" class=\"dataframe\">\n",
       "  <thead>\n",
       "    <tr style=\"text-align: right;\">\n",
       "      <th></th>\n",
       "      <th>NID</th>\n",
       "      <th>land_id</th>\n",
       "      <th>res_no</th>\n",
       "      <th>valid</th>\n",
       "    </tr>\n",
       "  </thead>\n",
       "  <tbody>\n",
       "    <tr>\n",
       "      <th>283</th>\n",
       "      <td>----------------</td>\n",
       "      <td>NaN</td>\n",
       "      <td>NaN</td>\n",
       "      <td>NaN</td>\n",
       "    </tr>\n",
       "  </tbody>\n",
       "</table>\n",
       "</div>"
      ],
      "text/plain": [
       "                  NID land_id res_no valid\n",
       "283  ----------------     NaN    NaN   NaN"
      ]
     },
     "execution_count": 30,
     "metadata": {},
     "output_type": "execute_result"
    }
   ],
   "source": [
    "df1=pd.DataFrame()\n",
    "df1['NID'] = df.iloc[:,0].str[25:41]\n",
    "df1['land_id'] = df.iloc[:,1].str[10:16]\n",
    "df1['res_no'] = df.iloc[:,2].str[22:35]\n",
    "df1['valid'] = df.iloc[:,2].str[40:50]\n",
    "df1.loc[df1.NID.str.startswith('---')]\n",
    "# df1"
   ]
  }
 ],
 "metadata": {
  "kernelspec": {
   "display_name": "Python 3.10.2 64-bit",
   "language": "python",
   "name": "python3"
  },
  "language_info": {
   "codemirror_mode": {
    "name": "ipython",
    "version": 3
   },
   "file_extension": ".py",
   "mimetype": "text/x-python",
   "name": "python",
   "nbconvert_exporter": "python",
   "pygments_lexer": "ipython3",
   "version": "3.10.2"
  },
  "orig_nbformat": 4,
  "vscode": {
   "interpreter": {
    "hash": "26de051ba29f2982a8de78e945f0abaf191376122a1563185a90213a26c5da77"
   }
  }
 },
 "nbformat": 4,
 "nbformat_minor": 2
}
