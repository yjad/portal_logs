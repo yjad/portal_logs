{
 "cells": [
  {
   "cell_type": "code",
   "execution_count": 76,
   "metadata": {},
   "outputs": [],
   "source": [
    "import pandas as pd\n",
    "import DB as db\n",
    "import numpy as np"
   ]
  },
  {
   "cell_type": "code",
   "execution_count": 83,
   "metadata": {},
   "outputs": [],
   "source": [
    "log_summary_file_name = r\"C:\\Users\\yahia\\OneDrive - Data and Transaction Services\\Python-data\\PortalLogs\\summary\\log summary-2022-12-11.zip\"\n",
    "log_summary_file_name = r\"C:\\Users\\yahia\\OneDrive - Data and Transaction Services\\Python-data\\PortalLogs\\summary\\log summary-2023-04-20.zip\"\n",
    "# log_summary_file_name = r\"C:\\Users\\yahia\\OneDrive - Data and Transaction Services\\Python-data\\PortalLogs\\summary\\log summary-2023-04-19.zip\"\n",
    "# log_summary_file_name = r\"C:\\Users\\yahia\\OneDrive - Data and Transaction Services\\Python-data\\PortalLogs\\summary\\log summary-2023-04-18.zip\"\n",
    "\n",
    "logdf= pd.read_csv(log_summary_file_name, low_memory=False).query(\"token == 'confirmLandReservation True'\")\\\n",
    "    .drop(columns=['node', 'task_id','project_id', 'error_line'])\n",
    "# logdf.head()"
   ]
  },
  {
   "cell_type": "code",
   "execution_count": 100,
   "metadata": {},
   "outputs": [],
   "source": [
    "land_app_fn = r\"C:\\Users\\yahia\\Downloads\\land_Application.zip\"\n",
    "dbdf= pd.read_csv(land_app_fn, low_memory=False, dtype={'applicant_national_id':str})\\\n",
    "    # .query(\"project_id == 86 and land_application_status == 'W'\")[['applicant_national_id', 'check_sum', 'land_id', 'project_id']]"
   ]
  },
  {
   "cell_type": "code",
   "execution_count": 103,
   "metadata": {},
   "outputs": [
    {
     "data": {
      "text/html": [
       "<div>\n",
       "<style scoped>\n",
       "    .dataframe tbody tr th:only-of-type {\n",
       "        vertical-align: middle;\n",
       "    }\n",
       "\n",
       "    .dataframe tbody tr th {\n",
       "        vertical-align: top;\n",
       "    }\n",
       "\n",
       "    .dataframe thead th {\n",
       "        text-align: right;\n",
       "    }\n",
       "</style>\n",
       "<table border=\"1\" class=\"dataframe\">\n",
       "  <thead>\n",
       "    <tr style=\"text-align: right;\">\n",
       "      <th></th>\n",
       "      <th>land_application_id</th>\n",
       "    </tr>\n",
       "    <tr>\n",
       "      <th>land_application_status</th>\n",
       "      <th></th>\n",
       "    </tr>\n",
       "  </thead>\n",
       "  <tbody>\n",
       "    <tr>\n",
       "      <th>F</th>\n",
       "      <td>893</td>\n",
       "    </tr>\n",
       "    <tr>\n",
       "      <th>N</th>\n",
       "      <td>4586</td>\n",
       "    </tr>\n",
       "    <tr>\n",
       "      <th>P</th>\n",
       "      <td>9095</td>\n",
       "    </tr>\n",
       "    <tr>\n",
       "      <th>V</th>\n",
       "      <td>40</td>\n",
       "    </tr>\n",
       "    <tr>\n",
       "      <th>W</th>\n",
       "      <td>3343</td>\n",
       "    </tr>\n",
       "  </tbody>\n",
       "</table>\n",
       "</div>"
      ],
      "text/plain": [
       "                         land_application_id\n",
       "land_application_status                     \n",
       "F                                        893\n",
       "N                                       4586\n",
       "P                                       9095\n",
       "V                                         40\n",
       "W                                       3343"
      ]
     },
     "execution_count": 103,
     "metadata": {},
     "output_type": "execute_result"
    }
   ],
   "source": [
    "dbdf.loc[dbdf.project_id == 86][['land_application_id', 'land_application_status']].groupby('land_application_status').count()"
   ]
  },
  {
   "cell_type": "code",
   "execution_count": null,
   "metadata": {},
   "outputs": [],
   "source": [
    "df = (dbdf.merge(logdf, left_on='applicant_national_id', right_on='NID')\n",
    "      .assign(match = lambda x:(x.NA1 == x.check_sum))\n",
    "    #   .fillna('land_id', axis=1)\n",
    "    #   .assign(land_id = lambda x: x.astype(np.int64) )\n",
    "    )\n",
    "df.info()"
   ]
  },
  {
   "cell_type": "code",
   "execution_count": 80,
   "metadata": {},
   "outputs": [
    {
     "data": {
      "text/plain": [
       "match\n",
       "True     410\n",
       "False      1\n",
       "Name: count, dtype: int64"
      ]
     },
     "execution_count": 80,
     "metadata": {},
     "output_type": "execute_result"
    }
   ],
   "source": [
    "df.match.value_counts()"
   ]
  },
  {
   "cell_type": "code",
   "execution_count": 95,
   "metadata": {},
   "outputs": [
    {
     "data": {
      "text/html": [
       "<div>\n",
       "<style scoped>\n",
       "    .dataframe tbody tr th:only-of-type {\n",
       "        vertical-align: middle;\n",
       "    }\n",
       "\n",
       "    .dataframe tbody tr th {\n",
       "        vertical-align: top;\n",
       "    }\n",
       "\n",
       "    .dataframe thead th {\n",
       "        text-align: right;\n",
       "    }\n",
       "</style>\n",
       "<table border=\"1\" class=\"dataframe\">\n",
       "  <thead>\n",
       "    <tr style=\"text-align: right;\">\n",
       "      <th></th>\n",
       "      <th>applicant_national_id</th>\n",
       "      <th>check_sum</th>\n",
       "      <th>land_id</th>\n",
       "      <th>project_id</th>\n",
       "      <th>log_date</th>\n",
       "      <th>line_no</th>\n",
       "      <th>NID</th>\n",
       "      <th>log_type</th>\n",
       "      <th>country</th>\n",
       "      <th>IP_address</th>\n",
       "      <th>...</th>\n",
       "      <th>Region</th>\n",
       "      <th>District</th>\n",
       "      <th>Sub_District</th>\n",
       "      <th>Land_No</th>\n",
       "      <th>land_size</th>\n",
       "      <th>excellence_ratio</th>\n",
       "      <th>checksum</th>\n",
       "      <th>NA1</th>\n",
       "      <th>NA2</th>\n",
       "      <th>match</th>\n",
       "    </tr>\n",
       "  </thead>\n",
       "  <tbody>\n",
       "    <tr>\n",
       "      <th>32</th>\n",
       "      <td>26312132702012</td>\n",
       "      <td>017B780E3DC6A2E24581C9763DE7CE9BEE894EEC745246...</td>\n",
       "      <td>80312</td>\n",
       "      <td>86</td>\n",
       "      <td>2023-04-20 10:16:43</td>\n",
       "      <td>3834604</td>\n",
       "      <td>26312132702012</td>\n",
       "      <td>ERROR</td>\n",
       "      <td>AE</td>\n",
       "      <td>217.165.114.211</td>\n",
       "      <td>...</td>\n",
       "      <td>قنا الجديدة</td>\n",
       "      <td>منطقة 600 فدان التوسعات الشرقية</td>\n",
       "      <td>-</td>\n",
       "      <td>الثانية</td>\n",
       "      <td>498.0</td>\n",
       "      <td>209.0</td>\n",
       "      <td>1.06</td>\n",
       "      <td>015975F7E08B1CA5FB85BE63226E492A48BDF0168BC5AE...</td>\n",
       "      <td>NaN</td>\n",
       "      <td>False</td>\n",
       "    </tr>\n",
       "  </tbody>\n",
       "</table>\n",
       "<p>1 rows × 25 columns</p>\n",
       "</div>"
      ],
      "text/plain": [
       "   applicant_national_id                                          check_sum   \n",
       "32        26312132702012  017B780E3DC6A2E24581C9763DE7CE9BEE894EEC745246...  \\\n",
       "\n",
       "    land_id  project_id             log_date  line_no             NID   \n",
       "32    80312          86  2023-04-20 10:16:43  3834604  26312132702012  \\\n",
       "\n",
       "   log_type country       IP_address  ...       Region   \n",
       "32    ERROR      AE  217.165.114.211  ...  قنا الجديدة  \\\n",
       "\n",
       "                           District Sub_District  Land_No  land_size   \n",
       "32  منطقة 600 فدان التوسعات الشرقية            -  الثانية      498.0  \\\n",
       "\n",
       "   excellence_ratio checksum   \n",
       "32            209.0     1.06  \\\n",
       "\n",
       "                                                  NA1 NA2  match  \n",
       "32  015975F7E08B1CA5FB85BE63226E492A48BDF0168BC5AE... NaN  False  \n",
       "\n",
       "[1 rows x 25 columns]"
      ]
     },
     "execution_count": 95,
     "metadata": {},
     "output_type": "execute_result"
    }
   ],
   "source": [
    "df.query(\"match == False\").assign(land_id = lambda x: x.land_id.astype(np.int64))"
   ]
  },
  {
   "cell_type": "markdown",
   "metadata": {},
   "source": []
  }
 ],
 "metadata": {
  "kernelspec": {
   "display_name": "Python 3",
   "language": "python",
   "name": "python3"
  },
  "language_info": {
   "codemirror_mode": {
    "name": "ipython",
    "version": 3
   },
   "file_extension": ".py",
   "mimetype": "text/x-python",
   "name": "python",
   "nbconvert_exporter": "python",
   "pygments_lexer": "ipython3",
   "version": "3.10.2"
  },
  "orig_nbformat": 4
 },
 "nbformat": 4,
 "nbformat_minor": 2
}
