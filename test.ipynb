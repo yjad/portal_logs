{
 "cells": [
  {
   "cell_type": "code",
   "execution_count": 1,
   "metadata": {},
   "outputs": [],
   "source": [
    "import pandas as pd\n",
    "# import os\n",
    "# import lxml\n",
    "# import DB as db"
   ]
  },
  {
   "attachments": {},
   "cell_type": "markdown",
   "metadata": {},
   "source": [
    "# test pandas 2.0"
   ]
  },
  {
   "cell_type": "code",
   "execution_count": null,
   "metadata": {},
   "outputs": [],
   "source": [
    "# fn = r\"C:\\Users\\yahia\\OneDrive - Data and Transaction Services\\Python-data\\PortalLogs\\summary\\log summary-2023-04-03.zip\"\n",
    "# fn = r\"C:\\Users\\yahia\\OneDrive - Data and Transaction Services\\Python-data\\PortalLogs\\logs\\server.log.2023-02-23.zip\"\n",
    "fn= r\"C:\\Users\\yahia\\OneDrive - Data and Transaction Services\\Python-data\\PortalLogs\\summary\\log summary-2023-02-23-YJ-DELL.zip\"\n",
    "# %timeit df= pd.read_csv(fn)\n",
    "df= pd.read_csv(fn, dtype_backend = 'pyarrow', low_memory=False)\n",
    "# pd.options.mode.dtype_backend = 'pyarrow'\n",
    "\n",
    "\n",
    "df.info()"
   ]
  },
  {
   "cell_type": "code",
   "execution_count": null,
   "metadata": {},
   "outputs": [],
   "source": [
    "proj_fn = r\"C:\\Users\\yahia\\OneDrive - Data and Transaction Services\\Projects\\Realestate Reservation Portal\\5- Operation\\Incident reports\\Reservation with status N\\Copy of mpc_pro.xls\"\n",
    "pro_2_fn = r\"C:\\Users\\yahia\\OneDrive - Data and Transaction Services\\Projects\\Realestate Reservation Portal\\5- Operation\\Incident reports\\Reservation with status N\\Copy of soc_pro.xls\"\n",
    "data_types = {'الرقم القومى للزوج / ': 'string[pyarrow]', \n",
    "              'الرقم الأرضى': 'string[pyarrow]',\n",
    "             'الرقم المحمول': 'string[pyarrow]',\n",
    "             'الرقم القومى': 'string[pyarrow]',\n",
    "             'رقم الأستمارة': 'string[pyarrow]'}\n",
    "rdf_1= pd.read_excel(proj_fn, dtype_backend = 'pyarrow', skiprows=2 , dtype=data_types)\n",
    "rdf_2= pd.read_excel(pro_2_fn, dtype_backend = 'pyarrow', skiprows=0 , dtype=data_types)\n",
    "rdf =  pd.concat([rdf_1, rdf_2])\n",
    "rdf.info()"
   ]
  },
  {
   "cell_type": "code",
   "execution_count": null,
   "metadata": {},
   "outputs": [],
   "source": [
    "ip = df.query(\"token == 'confirmLandReservation True'\")[['NID', 'IP_address', 'country', 'log_date']]\n",
    "ip.info()"
   ]
  },
  {
   "cell_type": "code",
   "execution_count": null,
   "metadata": {},
   "outputs": [],
   "source": [
    "df.query(\"token == 'confirmLandReservation True' and NID == '25006192300285'\")"
   ]
  },
  {
   "cell_type": "code",
   "execution_count": null,
   "metadata": {},
   "outputs": [],
   "source": [
    "rdf.merge(ip, how='left',right_on= 'NID', left_on=rdf.columns[15]).to_excel('./out/reservatio_with_N.xlsx')"
   ]
  },
  {
   "cell_type": "code",
   "execution_count": null,
   "metadata": {},
   "outputs": [],
   "source": [
    "lst=[1,2,3,4,5,6,7]\n",
    "li = [100,122,233,222,333,444, 555]\n",
    "\n",
    "pd.DataFrame(lst, index=li)"
   ]
  },
  {
   "attachments": {},
   "cell_type": "markdown",
   "metadata": {},
   "source": [
    "# test"
   ]
  },
  {
   "cell_type": "code",
   "execution_count": 65,
   "metadata": {},
   "outputs": [],
   "source": [
    "fn = r\"C:\\Users\\yahia\\OneDrive - Data and Transaction Services\\Documents\\Project 84 and 85.csv\"\n",
    "df = pd.read_csv(fn, low_memory=False, parse_dates=['status_date']).dropna(subset=['land_id'], axis=0)\n",
    "df['res_hour'] = df.status_date.dt.hour"
   ]
  },
  {
   "cell_type": "code",
   "execution_count": 66,
   "metadata": {},
   "outputs": [
    {
     "data": {
      "text/plain": [
       "Index(['land_application_id', 'payment_method_id', 'payment_receipt_id',\n",
       "       'payment_bank_code', 'payment_amount', 'payment_percentage',\n",
       "       'payment_date', 'land_application_date', 'applicant_national_id',\n",
       "       'applicant_printed_image',\n",
       "       ...\n",
       "       'project_reservation_number', 'profile_data_exits',\n",
       "       'profile_application_date', 'land_app_bank_id', 'land_app_bank_branch',\n",
       "       'check_sum', 'check_sum_B', 'selected_governorate_id',\n",
       "       'selected_city_id', 'res_hour'],\n",
       "      dtype='object', length=102)"
      ]
     },
     "execution_count": 66,
     "metadata": {},
     "output_type": "execute_result"
    }
   ],
   "source": [
    "df.columns"
   ]
  },
  {
   "cell_type": "code",
   "execution_count": 76,
   "metadata": {},
   "outputs": [
    {
     "ename": "KeyError",
     "evalue": "\"['project_id'] not in index\"",
     "output_type": "error",
     "traceback": [
      "\u001b[1;31m---------------------------------------------------------------------------\u001b[0m",
      "\u001b[1;31mKeyError\u001b[0m                                  Traceback (most recent call last)",
      "\u001b[1;32mc:\\Yahia\\Home\\Yahia-Dev\\Python\\portal_logs\\test.ipynb Cell 12\u001b[0m in \u001b[0;36m<module>\u001b[1;34m\u001b[0m\n\u001b[1;32m----> <a href='vscode-notebook-cell:/c%3A/Yahia/Home/Yahia-Dev/Python/portal_logs/test.ipynb#X15sZmlsZQ%3D%3D?line=0'>1</a>\u001b[0m df1 \u001b[39m=\u001b[39mdf1[[\u001b[39m'\u001b[39;49m\u001b[39mstatus_date\u001b[39;49m\u001b[39m'\u001b[39;49m, \u001b[39m'\u001b[39;49m\u001b[39mproject_id\u001b[39;49m\u001b[39m'\u001b[39;49m, \u001b[39m'\u001b[39;49m\u001b[39mres_hour\u001b[39;49m\u001b[39m'\u001b[39;49m]]\u001b[39m.\u001b[39mpivot_table(columns\u001b[39m=\u001b[39m\u001b[39m'\u001b[39m\u001b[39mproject_id\u001b[39m\u001b[39m'\u001b[39m, index\u001b[39m=\u001b[39m\u001b[39m'\u001b[39m\u001b[39mres_hour\u001b[39m\u001b[39m'\u001b[39m, aggfunc \u001b[39m=\u001b[39m \u001b[39m'\u001b[39m\u001b[39mcount\u001b[39m\u001b[39m'\u001b[39m)\u001b[39m.\u001b[39mreset_index()\n\u001b[0;32m      <a href='vscode-notebook-cell:/c%3A/Yahia/Home/Yahia-Dev/Python/portal_logs/test.ipynb#X15sZmlsZQ%3D%3D?line=1'>2</a>\u001b[0m df1\n",
      "File \u001b[1;32mc:\\Program Files\\Python310\\lib\\site-packages\\pandas\\core\\frame.py:3766\u001b[0m, in \u001b[0;36mDataFrame.__getitem__\u001b[1;34m(self, key)\u001b[0m\n\u001b[0;32m   3764\u001b[0m     \u001b[39mif\u001b[39;00m is_iterator(key):\n\u001b[0;32m   3765\u001b[0m         key \u001b[39m=\u001b[39m \u001b[39mlist\u001b[39m(key)\n\u001b[1;32m-> 3766\u001b[0m     indexer \u001b[39m=\u001b[39m \u001b[39mself\u001b[39;49m\u001b[39m.\u001b[39;49mcolumns\u001b[39m.\u001b[39;49m_get_indexer_strict(key, \u001b[39m\"\u001b[39;49m\u001b[39mcolumns\u001b[39;49m\u001b[39m\"\u001b[39;49m)[\u001b[39m1\u001b[39m]\n\u001b[0;32m   3768\u001b[0m \u001b[39m# take() does not accept boolean indexers\u001b[39;00m\n\u001b[0;32m   3769\u001b[0m \u001b[39mif\u001b[39;00m \u001b[39mgetattr\u001b[39m(indexer, \u001b[39m\"\u001b[39m\u001b[39mdtype\u001b[39m\u001b[39m\"\u001b[39m, \u001b[39mNone\u001b[39;00m) \u001b[39m==\u001b[39m \u001b[39mbool\u001b[39m:\n",
      "File \u001b[1;32mc:\\Program Files\\Python310\\lib\\site-packages\\pandas\\core\\indexes\\multi.py:2535\u001b[0m, in \u001b[0;36mMultiIndex._get_indexer_strict\u001b[1;34m(self, key, axis_name)\u001b[0m\n\u001b[0;32m   2532\u001b[0m \u001b[39mif\u001b[39;00m \u001b[39mlen\u001b[39m(keyarr) \u001b[39mand\u001b[39;00m \u001b[39mnot\u001b[39;00m \u001b[39misinstance\u001b[39m(keyarr[\u001b[39m0\u001b[39m], \u001b[39mtuple\u001b[39m):\n\u001b[0;32m   2533\u001b[0m     indexer \u001b[39m=\u001b[39m \u001b[39mself\u001b[39m\u001b[39m.\u001b[39m_get_indexer_level_0(keyarr)\n\u001b[1;32m-> 2535\u001b[0m     \u001b[39mself\u001b[39;49m\u001b[39m.\u001b[39;49m_raise_if_missing(key, indexer, axis_name)\n\u001b[0;32m   2536\u001b[0m     \u001b[39mreturn\u001b[39;00m \u001b[39mself\u001b[39m[indexer], indexer\n\u001b[0;32m   2538\u001b[0m \u001b[39mreturn\u001b[39;00m \u001b[39msuper\u001b[39m()\u001b[39m.\u001b[39m_get_indexer_strict(key, axis_name)\n",
      "File \u001b[1;32mc:\\Program Files\\Python310\\lib\\site-packages\\pandas\\core\\indexes\\multi.py:2553\u001b[0m, in \u001b[0;36mMultiIndex._raise_if_missing\u001b[1;34m(self, key, indexer, axis_name)\u001b[0m\n\u001b[0;32m   2551\u001b[0m cmask \u001b[39m=\u001b[39m check \u001b[39m==\u001b[39m \u001b[39m-\u001b[39m\u001b[39m1\u001b[39m\n\u001b[0;32m   2552\u001b[0m \u001b[39mif\u001b[39;00m cmask\u001b[39m.\u001b[39many():\n\u001b[1;32m-> 2553\u001b[0m     \u001b[39mraise\u001b[39;00m \u001b[39mKeyError\u001b[39;00m(\u001b[39mf\u001b[39m\u001b[39m\"\u001b[39m\u001b[39m{\u001b[39;00mkeyarr[cmask]\u001b[39m}\u001b[39;00m\u001b[39m not in index\u001b[39m\u001b[39m\"\u001b[39m)\n\u001b[0;32m   2554\u001b[0m \u001b[39m# We get here when levels still contain values which are not\u001b[39;00m\n\u001b[0;32m   2555\u001b[0m \u001b[39m# actually in Index anymore\u001b[39;00m\n\u001b[0;32m   2556\u001b[0m \u001b[39mraise\u001b[39;00m \u001b[39mKeyError\u001b[39;00m(\u001b[39mf\u001b[39m\u001b[39m\"\u001b[39m\u001b[39m{\u001b[39;00mkeyarr\u001b[39m}\u001b[39;00m\u001b[39m not in index\u001b[39m\u001b[39m\"\u001b[39m)\n",
      "\u001b[1;31mKeyError\u001b[0m: \"['project_id'] not in index\""
     ]
    }
   ],
   "source": [
    "df1 =df1[['status_date', 'project_id', 'res_hour']].pivot_table(columns='project_id', index='res_hour', aggfunc = 'count').reset_index()\n",
    "df1#.drop(columns = 'project_id' , axis=1, )#.plot()\n",
    "# df1.index"
   ]
  },
  {
   "cell_type": "code",
   "execution_count": 36,
   "metadata": {},
   "outputs": [
    {
     "data": {
      "text/html": [
       "<div>\n",
       "<style scoped>\n",
       "    .dataframe tbody tr th:only-of-type {\n",
       "        vertical-align: middle;\n",
       "    }\n",
       "\n",
       "    .dataframe tbody tr th {\n",
       "        vertical-align: top;\n",
       "    }\n",
       "\n",
       "    .dataframe thead th {\n",
       "        text-align: right;\n",
       "    }\n",
       "</style>\n",
       "<table border=\"1\" class=\"dataframe\">\n",
       "  <thead>\n",
       "    <tr style=\"text-align: right;\">\n",
       "      <th></th>\n",
       "      <th>status_date</th>\n",
       "      <th>project_id</th>\n",
       "      <th>res_hour</th>\n",
       "    </tr>\n",
       "  </thead>\n",
       "  <tbody>\n",
       "    <tr>\n",
       "      <th>0</th>\n",
       "      <td>2023-01-15 00:01:59.000</td>\n",
       "      <td>84</td>\n",
       "      <td>0</td>\n",
       "    </tr>\n",
       "    <tr>\n",
       "      <th>1</th>\n",
       "      <td>2023-01-15 00:35:27.000</td>\n",
       "      <td>84</td>\n",
       "      <td>0</td>\n",
       "    </tr>\n",
       "    <tr>\n",
       "      <th>2</th>\n",
       "      <td>2023-01-15 00:56:18.000</td>\n",
       "      <td>84</td>\n",
       "      <td>0</td>\n",
       "    </tr>\n",
       "    <tr>\n",
       "      <th>3</th>\n",
       "      <td>2023-03-17 21:58:13.578</td>\n",
       "      <td>84</td>\n",
       "      <td>21</td>\n",
       "    </tr>\n",
       "    <tr>\n",
       "      <th>4</th>\n",
       "      <td>2023-01-15 01:05:15.000</td>\n",
       "      <td>84</td>\n",
       "      <td>1</td>\n",
       "    </tr>\n",
       "    <tr>\n",
       "      <th>...</th>\n",
       "      <td>...</td>\n",
       "      <td>...</td>\n",
       "      <td>...</td>\n",
       "    </tr>\n",
       "    <tr>\n",
       "      <th>8625</th>\n",
       "      <td>2023-02-20 21:51:15.000</td>\n",
       "      <td>85</td>\n",
       "      <td>21</td>\n",
       "    </tr>\n",
       "    <tr>\n",
       "      <th>8626</th>\n",
       "      <td>2023-02-23 10:00:31.000</td>\n",
       "      <td>85</td>\n",
       "      <td>10</td>\n",
       "    </tr>\n",
       "    <tr>\n",
       "      <th>8627</th>\n",
       "      <td>2023-02-23 10:01:45.000</td>\n",
       "      <td>85</td>\n",
       "      <td>10</td>\n",
       "    </tr>\n",
       "    <tr>\n",
       "      <th>8628</th>\n",
       "      <td>2023-02-23 10:00:32.000</td>\n",
       "      <td>85</td>\n",
       "      <td>10</td>\n",
       "    </tr>\n",
       "    <tr>\n",
       "      <th>8629</th>\n",
       "      <td>2023-02-20 23:40:25.000</td>\n",
       "      <td>85</td>\n",
       "      <td>23</td>\n",
       "    </tr>\n",
       "  </tbody>\n",
       "</table>\n",
       "<p>8630 rows × 3 columns</p>\n",
       "</div>"
      ],
      "text/plain": [
       "                 status_date  project_id  res_hour\n",
       "0    2023-01-15 00:01:59.000          84         0\n",
       "1    2023-01-15 00:35:27.000          84         0\n",
       "2    2023-01-15 00:56:18.000          84         0\n",
       "3    2023-03-17 21:58:13.578          84        21\n",
       "4    2023-01-15 01:05:15.000          84         1\n",
       "...                      ...         ...       ...\n",
       "8625 2023-02-20 21:51:15.000          85        21\n",
       "8626 2023-02-23 10:00:31.000          85        10\n",
       "8627 2023-02-23 10:01:45.000          85        10\n",
       "8628 2023-02-23 10:00:32.000          85        10\n",
       "8629 2023-02-20 23:40:25.000          85        23\n",
       "\n",
       "[8630 rows x 3 columns]"
      ]
     },
     "execution_count": 36,
     "metadata": {},
     "output_type": "execute_result"
    }
   ],
   "source": [
    "df[['status_date', 'project_id', 'res_hour']]"
   ]
  }
 ],
 "metadata": {
  "kernelspec": {
   "display_name": "Python 3.10.2 64-bit",
   "language": "python",
   "name": "python3"
  },
  "language_info": {
   "codemirror_mode": {
    "name": "ipython",
    "version": 3
   },
   "file_extension": ".py",
   "mimetype": "text/x-python",
   "name": "python",
   "nbconvert_exporter": "python",
   "pygments_lexer": "ipython3",
   "version": "3.10.2"
  },
  "orig_nbformat": 4,
  "vscode": {
   "interpreter": {
    "hash": "26de051ba29f2982a8de78e945f0abaf191376122a1563185a90213a26c5da77"
   }
  }
 },
 "nbformat": 4,
 "nbformat_minor": 2
}
