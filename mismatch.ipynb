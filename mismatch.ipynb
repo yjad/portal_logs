{
 "cells": [
  {
   "cell_type": "code",
   "execution_count": 2,
   "metadata": {},
   "outputs": [],
   "source": [
    "import pandas as pd\n",
    "import DB as db\n",
    "import numpy as np"
   ]
  },
  {
   "cell_type": "code",
   "execution_count": 8,
   "metadata": {},
   "outputs": [],
   "source": [
    "log_summary_file_name = r\"C:\\Users\\yahia\\OneDrive - Data and Transaction Services\\Python-data\\PortalLogs\\summary\\log summary-2022-12-11.zip\"\n",
    "log_summary_file_name = r\"C:\\Users\\yahia\\OneDrive - Data and Transaction Services\\Python-data\\PortalLogs\\summary\\log summary-2023-04-20.zip\"\n",
    "# log_summary_file_name = r\"C:\\Users\\yahia\\OneDrive - Data and Transaction Services\\Python-data\\PortalLogs\\summary\\log summary-2023-04-19.zip\"\n",
    "# log_summary_file_name = r\"C:\\Users\\yahia\\OneDrive - Data and Transaction Services\\Python-data\\PortalLogs\\summary\\log summary-2023-04-18.zip\"\n",
    "\n",
    "logdf= pd.read_csv(log_summary_file_name, low_memory=False).query(\"token == 'confirmLandReservation True'\")\\\n",
    "    .drop(columns=['node', 'task_id','project_id', 'error_line'])\n",
    "# logdf.head()"
   ]
  },
  {
   "cell_type": "code",
   "execution_count": 9,
   "metadata": {},
   "outputs": [
    {
     "data": {
      "text/html": [
       "<div>\n",
       "<style scoped>\n",
       "    .dataframe tbody tr th:only-of-type {\n",
       "        vertical-align: middle;\n",
       "    }\n",
       "\n",
       "    .dataframe tbody tr th {\n",
       "        vertical-align: top;\n",
       "    }\n",
       "\n",
       "    .dataframe thead th {\n",
       "        text-align: right;\n",
       "    }\n",
       "</style>\n",
       "<table border=\"1\" class=\"dataframe\">\n",
       "  <thead>\n",
       "    <tr style=\"text-align: right;\">\n",
       "      <th></th>\n",
       "      <th>log_date</th>\n",
       "      <th>line_no</th>\n",
       "      <th>NID</th>\n",
       "      <th>log_type</th>\n",
       "      <th>country</th>\n",
       "      <th>IP_address</th>\n",
       "      <th>service</th>\n",
       "      <th>token</th>\n",
       "      <th>categ</th>\n",
       "      <th>Gov</th>\n",
       "      <th>Land_ID</th>\n",
       "      <th>City</th>\n",
       "      <th>Region</th>\n",
       "      <th>District</th>\n",
       "      <th>Sub_District</th>\n",
       "      <th>Land_No</th>\n",
       "      <th>land_size</th>\n",
       "      <th>excellence_ratio</th>\n",
       "      <th>checksum</th>\n",
       "      <th>NA1</th>\n",
       "    </tr>\n",
       "  </thead>\n",
       "  <tbody>\n",
       "    <tr>\n",
       "      <th>69096</th>\n",
       "      <td>2023-04-20 10:16:43</td>\n",
       "      <td>3834604</td>\n",
       "      <td>26312132702012</td>\n",
       "      <td>ERROR</td>\n",
       "      <td>AE</td>\n",
       "      <td>217.165.114.211</td>\n",
       "      <td>confirmLandReservation</td>\n",
       "      <td>confirmLandReservation True</td>\n",
       "      <td>user</td>\n",
       "      <td>قنا</td>\n",
       "      <td>80487.0</td>\n",
       "      <td>قنا الجديدة</td>\n",
       "      <td>منطقة 600 فدان التوسعات الشرقية</td>\n",
       "      <td>-</td>\n",
       "      <td>الثانية</td>\n",
       "      <td>498.0</td>\n",
       "      <td>209.0</td>\n",
       "      <td>1.06</td>\n",
       "      <td>015975F7E08B1CA5FB85BE63226E492A48BDF0168BC5AE...</td>\n",
       "      <td>NaN</td>\n",
       "    </tr>\n",
       "    <tr>\n",
       "      <th>69098</th>\n",
       "      <td>2023-04-20 10:16:43</td>\n",
       "      <td>3834626</td>\n",
       "      <td>26312132702012</td>\n",
       "      <td>ERROR</td>\n",
       "      <td>EG</td>\n",
       "      <td>196.133.30.103</td>\n",
       "      <td>confirmLandReservation</td>\n",
       "      <td>confirmLandReservation True</td>\n",
       "      <td>user</td>\n",
       "      <td>قنا</td>\n",
       "      <td>80312.0</td>\n",
       "      <td>قنا الجديدة</td>\n",
       "      <td>منطقة 600 فدان التوسعات الشرقية</td>\n",
       "      <td>-</td>\n",
       "      <td>الثانية</td>\n",
       "      <td>241.0</td>\n",
       "      <td>209.0</td>\n",
       "      <td>1.06</td>\n",
       "      <td>017B780E3DC6A2E24581C9763DE7CE9BEE894EEC745246...</td>\n",
       "      <td>NaN</td>\n",
       "    </tr>\n",
       "  </tbody>\n",
       "</table>\n",
       "</div>"
      ],
      "text/plain": [
       "                  log_date  line_no             NID log_type country   \n",
       "69096  2023-04-20 10:16:43  3834604  26312132702012    ERROR      AE  \\\n",
       "69098  2023-04-20 10:16:43  3834626  26312132702012    ERROR      EG   \n",
       "\n",
       "            IP_address                 service                        token   \n",
       "69096  217.165.114.211  confirmLandReservation  confirmLandReservation True  \\\n",
       "69098   196.133.30.103  confirmLandReservation  confirmLandReservation True   \n",
       "\n",
       "      categ  Gov  Land_ID         City                           Region   \n",
       "69096  user  قنا  80487.0  قنا الجديدة  منطقة 600 فدان التوسعات الشرقية  \\\n",
       "69098  user  قنا  80312.0  قنا الجديدة  منطقة 600 فدان التوسعات الشرقية   \n",
       "\n",
       "      District Sub_District  Land_No  land_size  excellence_ratio   \n",
       "69096        -      الثانية    498.0      209.0              1.06  \\\n",
       "69098        -      الثانية    241.0      209.0              1.06   \n",
       "\n",
       "                                                checksum  NA1  \n",
       "69096  015975F7E08B1CA5FB85BE63226E492A48BDF0168BC5AE...  NaN  \n",
       "69098  017B780E3DC6A2E24581C9763DE7CE9BEE894EEC745246...  NaN  "
      ]
     },
     "execution_count": 9,
     "metadata": {},
     "output_type": "execute_result"
    }
   ],
   "source": [
    "# logdf.query(\"Land_ID in (80312, 80487)\")\n",
    "logdf.query(\"NID == '26312132702012'\")"
   ]
  },
  {
   "cell_type": "code",
   "execution_count": 14,
   "metadata": {},
   "outputs": [],
   "source": [
    "land_app_fn = r\"C:\\Users\\yahia\\OneDrive - Data and Transaction Services\\Python-data\\PortalLogs\\DB-summary\\DB checksum\\2023-05-03\\NewQueryLand.zip\"\n",
    "dbdf= pd.read_csv(land_app_fn, low_memory=False, dtype={'applicant_national_id':str}).query(\"project_id == 86\")\n",
    "    # .query(\"project_id == 86 and land_application_status == 'W'\")[['applicant_national_id', 'check_sum', 'land_id', 'project_id']]"
   ]
  },
  {
   "cell_type": "code",
   "execution_count": 15,
   "metadata": {},
   "outputs": [
    {
     "data": {
      "text/html": [
       "<div>\n",
       "<style scoped>\n",
       "    .dataframe tbody tr th:only-of-type {\n",
       "        vertical-align: middle;\n",
       "    }\n",
       "\n",
       "    .dataframe tbody tr th {\n",
       "        vertical-align: top;\n",
       "    }\n",
       "\n",
       "    .dataframe thead th {\n",
       "        text-align: right;\n",
       "    }\n",
       "</style>\n",
       "<table border=\"1\" class=\"dataframe\">\n",
       "  <thead>\n",
       "    <tr style=\"text-align: right;\">\n",
       "      <th></th>\n",
       "      <th>project_id</th>\n",
       "      <th>applicant_national_id</th>\n",
       "      <th>check_sum</th>\n",
       "      <th>land_id</th>\n",
       "    </tr>\n",
       "  </thead>\n",
       "  <tbody>\n",
       "  </tbody>\n",
       "</table>\n",
       "</div>"
      ],
      "text/plain": [
       "Empty DataFrame\n",
       "Columns: [project_id, applicant_national_id, check_sum, land_id]\n",
       "Index: []"
      ]
     },
     "execution_count": 15,
     "metadata": {},
     "output_type": "execute_result"
    }
   ],
   "source": [
    "dbdf.query(\"land_id == '80487'\")"
   ]
  },
  {
   "cell_type": "code",
   "execution_count": 16,
   "metadata": {},
   "outputs": [],
   "source": [
    "df = (dbdf.merge(logdf, left_on='applicant_national_id', right_on='NID')\n",
    "      .assign(match = lambda x:(x.checksum == x.check_sum))\n",
    "    #   .fillna('land_id', axis=1)\n",
    "    #   .assign(land_id = lambda x: x.astype(np.int64) )\n",
    "    )\n",
    "# df.info()"
   ]
  },
  {
   "cell_type": "code",
   "execution_count": 17,
   "metadata": {},
   "outputs": [
    {
     "data": {
      "text/plain": [
       "match\n",
       "True     999\n",
       "False      1\n",
       "Name: count, dtype: int64"
      ]
     },
     "execution_count": 17,
     "metadata": {},
     "output_type": "execute_result"
    }
   ],
   "source": [
    "df.match.value_counts()"
   ]
  },
  {
   "cell_type": "code",
   "execution_count": 20,
   "metadata": {},
   "outputs": [],
   "source": [
    "df.query(\"match == False\").assign(land_id = lambda x: x.land_id.astype(np.int64)).to_excel(r\"C:\\Users\\yahia\\Downloads\\mismatch.xlsx\")"
   ]
  },
  {
   "attachments": {},
   "cell_type": "markdown",
   "metadata": {},
   "source": [
    "## UNITS"
   ]
  },
  {
   "cell_type": "markdown",
   "metadata": {},
   "source": []
  },
  {
   "cell_type": "code",
   "execution_count": 28,
   "metadata": {},
   "outputs": [],
   "source": [
    "log_summary_file_name = r\"C:\\Users\\yahia\\OneDrive - Data and Transaction Services\\Python-data\\PortalLogs\\summary\\log summary-2023-02-07.zip\"\n",
    "\n",
    "logdf= pd.read_csv(log_summary_file_name, low_memory=False, dtype={'NID':str}).query(\"token == 'confirmReservation True'\")\\\n",
    "    .drop(columns=['node', 'task_id','project_id', 'error_line'])\n",
    "\n"
   ]
  },
  {
   "cell_type": "code",
   "execution_count": 35,
   "metadata": {},
   "outputs": [
    {
     "data": {
      "text/html": [
       "<div>\n",
       "<style scoped>\n",
       "    .dataframe tbody tr th:only-of-type {\n",
       "        vertical-align: middle;\n",
       "    }\n",
       "\n",
       "    .dataframe tbody tr th {\n",
       "        vertical-align: top;\n",
       "    }\n",
       "\n",
       "    .dataframe thead th {\n",
       "        text-align: right;\n",
       "    }\n",
       "</style>\n",
       "<table border=\"1\" class=\"dataframe\">\n",
       "  <thead>\n",
       "    <tr style=\"text-align: right;\">\n",
       "      <th></th>\n",
       "      <th>log_date</th>\n",
       "      <th>line_no</th>\n",
       "      <th>NID</th>\n",
       "      <th>log_type</th>\n",
       "      <th>country</th>\n",
       "      <th>IP_address</th>\n",
       "      <th>service</th>\n",
       "      <th>token</th>\n",
       "      <th>categ</th>\n",
       "      <th>Gov</th>\n",
       "      <th>City</th>\n",
       "      <th>Region</th>\n",
       "      <th>District</th>\n",
       "      <th>Sub_District</th>\n",
       "      <th>Floor_No</th>\n",
       "      <th>building_no</th>\n",
       "      <th>Unit_No</th>\n",
       "      <th>Unit_Model</th>\n",
       "      <th>Unit_ID</th>\n",
       "      <th>checksum</th>\n",
       "    </tr>\n",
       "  </thead>\n",
       "  <tbody>\n",
       "    <tr>\n",
       "      <th>37004</th>\n",
       "      <td>2023-02-07 10:04:19</td>\n",
       "      <td>5510745</td>\n",
       "      <td>28306040103632</td>\n",
       "      <td>ERROR</td>\n",
       "      <td>EG</td>\n",
       "      <td>196.153.52.114</td>\n",
       "      <td>confirmReservation</td>\n",
       "      <td>confirmReservation True</td>\n",
       "      <td>user</td>\n",
       "      <td>القاهرة</td>\n",
       "      <td>القاهرة الجديدة</td>\n",
       "      <td>نزهة الأندلس عمارات مدخل (أ)</td>\n",
       "      <td>NaN</td>\n",
       "      <td>NaN</td>\n",
       "      <td>0.0</td>\n",
       "      <td>9.0</td>\n",
       "      <td>15.0</td>\n",
       "      <td>-</td>\n",
       "      <td>157579.0</td>\n",
       "      <td>0116ECD030C0448E25A2CD6851EAF9D4915158DCE20E79...</td>\n",
       "    </tr>\n",
       "  </tbody>\n",
       "</table>\n",
       "</div>"
      ],
      "text/plain": [
       "                  log_date  line_no             NID log_type country   \n",
       "37004  2023-02-07 10:04:19  5510745  28306040103632    ERROR      EG  \\\n",
       "\n",
       "           IP_address             service                    token categ   \n",
       "37004  196.153.52.114  confirmReservation  confirmReservation True  user  \\\n",
       "\n",
       "           Gov             City                        Region  District   \n",
       "37004  القاهرة  القاهرة الجديدة  نزهة الأندلس عمارات مدخل (أ)       NaN  \\\n",
       "\n",
       "       Sub_District  Floor_No  building_no  Unit_No Unit_Model   Unit_ID   \n",
       "37004           NaN       0.0          9.0     15.0          -  157579.0  \\\n",
       "\n",
       "                                                checksum  \n",
       "37004  0116ECD030C0448E25A2CD6851EAF9D4915158DCE20E79...  "
      ]
     },
     "execution_count": 35,
     "metadata": {},
     "output_type": "execute_result"
    }
   ],
   "source": [
    "logdf.query(\"NID == '28306040103632'\")"
   ]
  },
  {
   "cell_type": "code",
   "execution_count": 38,
   "metadata": {},
   "outputs": [],
   "source": [
    "unit_app_fn = r\"C:\\Users\\yahia\\OneDrive - Data and Transaction Services\\Python-data\\PortalLogs\\DB-summary\\DB checksum\\2023-05-03\\NewQueryUnit.zip\"\n",
    "dbdf= pd.read_csv(unit_app_fn, low_memory=False, dtype={'applicant_national_id':str}).query(\"project_id == 82\")"
   ]
  },
  {
   "cell_type": "code",
   "execution_count": 39,
   "metadata": {},
   "outputs": [
    {
     "data": {
      "text/html": [
       "<div>\n",
       "<style scoped>\n",
       "    .dataframe tbody tr th:only-of-type {\n",
       "        vertical-align: middle;\n",
       "    }\n",
       "\n",
       "    .dataframe tbody tr th {\n",
       "        vertical-align: top;\n",
       "    }\n",
       "\n",
       "    .dataframe thead th {\n",
       "        text-align: right;\n",
       "    }\n",
       "</style>\n",
       "<table border=\"1\" class=\"dataframe\">\n",
       "  <thead>\n",
       "    <tr style=\"text-align: right;\">\n",
       "      <th></th>\n",
       "      <th>project_id</th>\n",
       "      <th>applicant_national_id</th>\n",
       "      <th>check_sum</th>\n",
       "      <th>unit_id</th>\n",
       "    </tr>\n",
       "  </thead>\n",
       "  <tbody>\n",
       "    <tr>\n",
       "      <th>6745</th>\n",
       "      <td>82</td>\n",
       "      <td>28306040103632</td>\n",
       "      <td>015E7F7F4A31AD630BCBDC636635A97470BB0CA428C44A...</td>\n",
       "      <td>155895</td>\n",
       "    </tr>\n",
       "  </tbody>\n",
       "</table>\n",
       "</div>"
      ],
      "text/plain": [
       "      project_id applicant_national_id   \n",
       "6745          82        28306040103632  \\\n",
       "\n",
       "                                              check_sum  unit_id  \n",
       "6745  015E7F7F4A31AD630BCBDC636635A97470BB0CA428C44A...   155895  "
      ]
     },
     "execution_count": 39,
     "metadata": {},
     "output_type": "execute_result"
    }
   ],
   "source": [
    "dbdf.query(\"applicant_national_id == '28306040103632'\")"
   ]
  },
  {
   "cell_type": "code",
   "execution_count": 40,
   "metadata": {},
   "outputs": [],
   "source": [
    "df = (dbdf.merge(logdf, left_on='applicant_national_id', right_on='NID')\n",
    "      .assign(match = lambda x:(x.checksum == x.check_sum))\n",
    ")\n"
   ]
  },
  {
   "cell_type": "code",
   "execution_count": 41,
   "metadata": {},
   "outputs": [
    {
     "data": {
      "text/plain": [
       "match\n",
       "False    1\n",
       "Name: count, dtype: int64"
      ]
     },
     "execution_count": 41,
     "metadata": {},
     "output_type": "execute_result"
    }
   ],
   "source": [
    "df.match.value_counts()"
   ]
  },
  {
   "cell_type": "code",
   "execution_count": 42,
   "metadata": {},
   "outputs": [
    {
     "data": {
      "text/html": [
       "<div>\n",
       "<style scoped>\n",
       "    .dataframe tbody tr th:only-of-type {\n",
       "        vertical-align: middle;\n",
       "    }\n",
       "\n",
       "    .dataframe tbody tr th {\n",
       "        vertical-align: top;\n",
       "    }\n",
       "\n",
       "    .dataframe thead th {\n",
       "        text-align: right;\n",
       "    }\n",
       "</style>\n",
       "<table border=\"1\" class=\"dataframe\">\n",
       "  <thead>\n",
       "    <tr style=\"text-align: right;\">\n",
       "      <th></th>\n",
       "      <th>NID</th>\n",
       "      <th>check_sum</th>\n",
       "      <th>checksum</th>\n",
       "    </tr>\n",
       "  </thead>\n",
       "  <tbody>\n",
       "    <tr>\n",
       "      <th>0</th>\n",
       "      <td>28306040103632</td>\n",
       "      <td>015E7F7F4A31AD630BCBDC636635A97470BB0CA428C44A...</td>\n",
       "      <td>0116ECD030C0448E25A2CD6851EAF9D4915158DCE20E79...</td>\n",
       "    </tr>\n",
       "  </tbody>\n",
       "</table>\n",
       "</div>"
      ],
      "text/plain": [
       "              NID                                          check_sum   \n",
       "0  28306040103632  015E7F7F4A31AD630BCBDC636635A97470BB0CA428C44A...  \\\n",
       "\n",
       "                                            checksum  \n",
       "0  0116ECD030C0448E25A2CD6851EAF9D4915158DCE20E79...  "
      ]
     },
     "execution_count": 42,
     "metadata": {},
     "output_type": "execute_result"
    }
   ],
   "source": [
    "df.query(\"match == False\").assign(unit_id = lambda x: x.unit_id.astype(np.int64))[['NID', 'check_sum', 'checksum']]\n",
    "#.to_excel(r\"C:\\Users\\yahia\\Downloads\\mismatch.xlsx\")"
   ]
  }
 ],
 "metadata": {
  "kernelspec": {
   "display_name": "Python 3",
   "language": "python",
   "name": "python3"
  },
  "language_info": {
   "codemirror_mode": {
    "name": "ipython",
    "version": 3
   },
   "file_extension": ".py",
   "mimetype": "text/x-python",
   "name": "python",
   "nbconvert_exporter": "python",
   "pygments_lexer": "ipython3",
   "version": "3.10.2"
  },
  "orig_nbformat": 4
 },
 "nbformat": 4,
 "nbformat_minor": 2
}
