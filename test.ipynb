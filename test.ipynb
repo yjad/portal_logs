{
 "cells": [
  {
   "cell_type": "code",
   "execution_count": 1,
   "metadata": {},
   "outputs": [],
   "source": [
    "import pandas as pd\n",
    "import os\n",
    "# import lxml\n",
    "import DB as db"
   ]
  },
  {
   "cell_type": "code",
   "execution_count": 4,
   "metadata": {},
   "outputs": [],
   "source": [
    "df  = pd.read_csv(r\"C:\\Users\\yahia\\OneDrive - Data and Transaction Services\\Python-data\\PortalLogs\\summary\\log summary-2022-06-18.zip\", \n",
    "     compression= 'zip', dtype={'NID':str})"
   ]
  },
  {
   "cell_type": "code",
   "execution_count": 5,
   "metadata": {},
   "outputs": [],
   "source": [
    "df_pivot = pd.pivot_table(df, index = ['categ','token'], columns='dt', values = 'line_no', aggfunc='count', margins=False, fill_value=0)\n",
    "# return df_pivot"
   ]
  },
  {
   "cell_type": "code",
   "execution_count": 6,
   "metadata": {},
   "outputs": [],
   "source": [
    "dt = df.dt.unique()[0]"
   ]
  },
  {
   "cell_type": "code",
   "execution_count": 18,
   "metadata": {},
   "outputs": [],
   "source": [
    "# df = df_pivot.reset_index()\n",
    "df1 = df.loc[df.categ == 'user'].copy()\n",
    "df1['log_dt'] = dt\n",
    "df1 = df1.rename(columns={dt:'count'}).set_index('token').drop(columns=['categ'])\n",
    "df1\n",
    "conn,_ = db.open_db()\n",
    "df1.to_sql( name='log_summary', con= conn,if_exists='append')\n",
    "conn.close()"
   ]
  },
  {
   "cell_type": "code",
   "execution_count": 26,
   "metadata": {},
   "outputs": [
    {
     "name": "stdout",
     "output_type": "stream",
     "text": [
      "confirmLandReservation True\n"
     ]
    },
    {
     "data": {
      "text/plain": [
       "['Gov',\n",
       " 'City',\n",
       " 'Region',\n",
       " 'District',\n",
       " 'Sub_District',\n",
       " 'Land_No',\n",
       " 'land_size',\n",
       " 'excellence_ratio',\n",
       " 'checksum']"
      ]
     },
     "execution_count": 26,
     "metadata": {},
     "output_type": "execute_result"
    }
   ],
   "source": [
    "import json\n",
    "txt = \"\"\"\n",
    "2022-12-27 10:00:08,805 ERROR [eg.intercom.hdb.rer.web.config.WebRequestInterceptor] (default task-28340) {\"datetime\":\"2022-12-27T10:00:08.766\",\"nid\":29510011105464, \"Country\":\"DE\",\"Address\":\"130.185.119.205, 130.185.119.205\", \"service\":\"confirmLandReservation\", \"success\":true,\"details\":{\"Gov\":\"الفيوم\",\"City\":\"الفيوم الجديدة\",\"Region\":\"الحى الثانى المجاورة الرابعة \",\"District\":\"الثانى\",\"Sub_District\":\"الرابعة \",\"Land_No\":\"34\",\"land_size\":\"651\",\"excellence_ratio\":\"1.140\",\"checksum\":\"011FB4BA45BE446C1F0ADCF85CB684614F6D5996D821785FE3D72125335E3B0190\"}}\n",
    "\"\"\"\n",
    "\n",
    "p = txt.find (\"{\")\n",
    "v = str(txt[p:])\n",
    "res = json.loads(v)\n",
    "service = str(res[\"service\"])\n",
    "x = service + \" \" + str(res['success'])\n",
    "print (x)\n",
    "match x:\n",
    "    case ['confirmReservation True'| 'confirmLandReservation True']:\n",
    "        # print (res.get('details'))\n",
    "        details_keys = list(res.get('details').keys())\n",
    "        details_values = list(res.get('details').values())\n",
    "\n",
    "# details_keys, details_values\n",
    "rec_lst = [1,2,3]\n",
    "if x in ('confirmReservation True', 'confirmLandReservation True'):\n",
    "    rec_lst += details_values\n",
    "else:\n",
    "    rec_lst += ['' for x in range(9)]\n",
    "rec_lst\n",
    "details_keys"
   ]
  },
  {
   "cell_type": "code",
   "execution_count": 24,
   "metadata": {},
   "outputs": [
    {
     "data": {
      "text/plain": [
       "['', '', '', '', '', '', '', '', '']"
      ]
     },
     "execution_count": 24,
     "metadata": {},
     "output_type": "execute_result"
    }
   ],
   "source": [
    "x = ['' for i in range(9)]\n",
    "x"
   ]
  }
 ],
 "metadata": {
  "kernelspec": {
   "display_name": "Python 3.10.2 64-bit",
   "language": "python",
   "name": "python3"
  },
  "language_info": {
   "codemirror_mode": {
    "name": "ipython",
    "version": 3
   },
   "file_extension": ".py",
   "mimetype": "text/x-python",
   "name": "python",
   "nbconvert_exporter": "python",
   "pygments_lexer": "ipython3",
   "version": "3.10.2"
  },
  "orig_nbformat": 4,
  "vscode": {
   "interpreter": {
    "hash": "26de051ba29f2982a8de78e945f0abaf191376122a1563185a90213a26c5da77"
   }
  }
 },
 "nbformat": 4,
 "nbformat_minor": 2
}
