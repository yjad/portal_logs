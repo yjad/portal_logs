{
 "cells": [
  {
   "cell_type": "code",
   "execution_count": 34,
   "metadata": {},
   "outputs": [],
   "source": [
    "import pandas as pd\n",
    "df = pd.read_csv('.\\\\out\\\\log_errors.csv')"
   ]
  },
  {
   "cell_type": "code",
   "execution_count": null,
   "metadata": {},
   "outputs": [],
   "source": [
    "df.head(10)"
   ]
  },
  {
   "cell_type": "code",
   "execution_count": 82,
   "metadata": {},
   "outputs": [
    {
     "data": {
      "text/plain": [
       "0       2022-06-18\n",
       "1       2022-06-18\n",
       "2       2022-06-18\n",
       "3       2022-06-18\n",
       "4       2022-06-18\n",
       "           ...    \n",
       "4801    2022-06-18\n",
       "4802    2022-06-18\n",
       "4803    2022-06-18\n",
       "4804    2022-06-18\n",
       "4805    2022-06-18\n",
       "Name: log_date, Length: 4806, dtype: object"
      ]
     },
     "execution_count": 82,
     "metadata": {},
     "output_type": "execute_result"
    }
   ],
   "source": [
    "pd.to_datetime(df['log_date']).dt.date  \n",
    "# pd.Timestamp(df['log_date'])\n",
    "# x.dt.date\n",
    "# x.week\n",
    "# y"
   ]
  },
  {
   "cell_type": "code",
   "execution_count": null,
   "metadata": {},
   "outputs": [],
   "source": [
    "x = df[['error_categ', 'line_no']].fillna('x').\\\n",
    "        groupby(['error_categ'],as_index = False).count()\n",
    "x \n",
    "\n",
    "# x.pivot(index = ['error_categ'], columns = ['service'], values=['line_no']).fillna(0).\\\n",
    "#            groupby(['service','error_categ'],as_index = False).count()\n",
    "# x"
   ]
  },
  {
   "cell_type": "code",
   "execution_count": null,
   "metadata": {},
   "outputs": [],
   "source": []
  }
 ],
 "metadata": {
  "kernelspec": {
   "display_name": "Python 3.10.2 64-bit",
   "language": "python",
   "name": "python3"
  },
  "language_info": {
   "codemirror_mode": {
    "name": "ipython",
    "version": 3
   },
   "file_extension": ".py",
   "mimetype": "text/x-python",
   "name": "python",
   "nbconvert_exporter": "python",
   "pygments_lexer": "ipython3",
   "version": "3.10.2"
  },
  "orig_nbformat": 4,
  "vscode": {
   "interpreter": {
    "hash": "26de051ba29f2982a8de78e945f0abaf191376122a1563185a90213a26c5da77"
   }
  }
 },
 "nbformat": 4,
 "nbformat_minor": 2
}
