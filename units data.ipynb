{
 "cells": [
  {
   "cell_type": "code",
   "execution_count": 1,
   "metadata": {},
   "outputs": [],
   "source": [
    "import pandas as pd"
   ]
  },
  {
   "attachments": {},
   "cell_type": "markdown",
   "metadata": {},
   "source": [
    "# Test 1"
   ]
  },
  {
   "cell_type": "code",
   "execution_count": 43,
   "metadata": {},
   "outputs": [
    {
     "name": "stderr",
     "output_type": "stream",
     "text": [
      "C:\\Users\\yahia\\AppData\\Roaming\\Python\\Python310\\site-packages\\openpyxl\\styles\\stylesheet.py:226: UserWarning: Workbook contains no default style, apply openpyxl's default\n",
      "  warn(\"Workbook contains no default style, apply openpyxl's default\")\n"
     ]
    },
    {
     "name": "stdout",
     "output_type": "stream",
     "text": [
      "<class 'pandas.core.frame.DataFrame'>\n",
      "Index: 1187 entries, 0 to 1186\n",
      "Data columns (total 16 columns):\n",
      " #   Column         Non-Null Count  Dtype                 \n",
      "---  ------         --------------  -----                 \n",
      " 0   تاريخ الحجز    1187 non-null   timestamp[us][pyarrow]\n",
      " 1   نسبة التميز    1187 non-null   double[pyarrow]       \n",
      " 2   Unnamed: 2     0 non-null      null[pyarrow]         \n",
      " 3   المساحة        1187 non-null   int64[pyarrow]        \n",
      " 4   رقم الأرض      1187 non-null   int64[pyarrow]        \n",
      " 5   المجاورة       1187 non-null   string[pyarrow]       \n",
      " 6   الحى           1187 non-null   string[pyarrow]       \n",
      " 7   المنطقة        1187 non-null   string[pyarrow]       \n",
      " 8   المدينة        1187 non-null   string[pyarrow]       \n",
      " 9   الرقم القومى   1187 non-null   int64[pyarrow]        \n",
      " 10  الأسم          1187 non-null   string[pyarrow]       \n",
      " 11  رقم الأستمارة  1187 non-null   string[pyarrow]       \n",
      " 12  Unnamed: 12    0 non-null      null[pyarrow]         \n",
      " 13  Unnamed: 13    0 non-null      string[pyarrow]       \n",
      " 14  Unnamed: 14    1187 non-null   int64[pyarrow]        \n",
      " 15  nid_gov        1187 non-null   int32                 \n",
      "dtypes: double[pyarrow](1), int32(1), int64[pyarrow](4), null[pyarrow](2), string[pyarrow](7), timestamp[us][pyarrow](1)\n",
      "memory usage: 278.8 KB\n"
     ]
    }
   ],
   "source": [
    "# fn_1 = r\"C:\\Yahia\\Python\\portal_logs\\data\\Units data\\3333.csv\"\n",
    "# fn = r\"C:\\Yahia\\Python\\portal_logs\\data\\Units data\\7777.csv\"\n",
    "# df_1 = pd.read_csv(fn_1, dtype_backend = 'pyarrow', low_memory=True)\n",
    "\n",
    "# fn_2 = r\"C:\\Yahia\\Python\\portal_logs\\data\\All Units Projects.zip\"\n",
    "fn_2 = r\"C:\\Users\\yahia\\Downloads\\E05____________________________________________.csv\"\n",
    "fn2 = r\"C:\\Users\\yahia\\Downloads\\E04__________________________.xlsx\"\n",
    "df2 = pd.read_excel(fn2, dtype_backend = 'pyarrow', skiprows=3)\n",
    "# df_2['bi_gov'] = df_2.applicant_national_id.astype(str).str[7:9].values\n",
    "df2= df2.dropna(subset='الرقم القومى')\n",
    "df2['nid_gov'] = df2['الرقم القومى'].astype(str).str[7:9].astype(int)\n",
    "df2.columns\n",
    "df2.info()"
   ]
  },
  {
   "cell_type": "code",
   "execution_count": 80,
   "metadata": {},
   "outputs": [
    {
     "data": {
      "text/plain": [
       "Index(['gov_code', 'portal_gov_name', 'city_code', 'city_name',\n",
       "       'nid_gov_code'],\n",
       "      dtype='object')"
      ]
     },
     "execution_count": 80,
     "metadata": {},
     "output_type": "execute_result"
    }
   ],
   "source": [
    "# nid_gov = pd.read_csv(r\"C:\\Yahia\\Python\\portal_logs\\data\\nid_gov.csv\")\n",
    "portal_gov = pd.read_csv(r\"C:\\Yahia\\Python\\portal_logs\\data\\portal_gov.csv\")\n",
    "portal_gov.columns"
   ]
  },
  {
   "cell_type": "code",
   "execution_count": null,
   "metadata": {},
   "outputs": [],
   "source": [
    "# df3 = df_2.dropna(subset='reservation_number')[['project_id', 'project_name_ar', 'applicant_national_id', 'governorate_name_ar', 'gov']]\n",
    "# df3 = df2[['nid_gov']]\\\n",
    "df3 = df2[['رقم الأستمارة',  'الرقم القومى', 'المدينة', 'nid_gov']]\\\n",
    "    .merge(portal_gov, how='left', left_on = 'nid_gov', right_on='portal_gov_code')\n",
    "# df3.columns\n",
    "\n",
    "df3.columns"
   ]
  },
  {
   "cell_type": "code",
   "execution_count": 84,
   "metadata": {},
   "outputs": [
    {
     "data": {
      "text/html": [
       "<div>\n",
       "<style scoped>\n",
       "    .dataframe tbody tr th:only-of-type {\n",
       "        vertical-align: middle;\n",
       "    }\n",
       "\n",
       "    .dataframe tbody tr th {\n",
       "        vertical-align: top;\n",
       "    }\n",
       "\n",
       "    .dataframe thead th {\n",
       "        text-align: right;\n",
       "    }\n",
       "</style>\n",
       "<table border=\"1\" class=\"dataframe\">\n",
       "  <thead>\n",
       "    <tr style=\"text-align: right;\">\n",
       "      <th></th>\n",
       "      <th>رقم الأستمارة</th>\n",
       "      <th>الرقم القومى</th>\n",
       "      <th>المدينة</th>\n",
       "      <th>nid_gov</th>\n",
       "      <th>gov_code</th>\n",
       "      <th>portal_gov_name</th>\n",
       "      <th>city_code</th>\n",
       "      <th>city_name</th>\n",
       "      <th>nid_gov_code</th>\n",
       "    </tr>\n",
       "  </thead>\n",
       "  <tbody>\n",
       "    <tr>\n",
       "      <th>0</th>\n",
       "      <td>55550110002427</td>\n",
       "      <td>29808272201303</td>\n",
       "      <td>أسيوط الجديدة</td>\n",
       "      <td>22</td>\n",
       "      <td>22.0</td>\n",
       "      <td>بنى سويف</td>\n",
       "      <td>11.0</td>\n",
       "      <td>بنى سويف الجديدة</td>\n",
       "      <td>22.0</td>\n",
       "    </tr>\n",
       "    <tr>\n",
       "      <th>1</th>\n",
       "      <td>55550110003165</td>\n",
       "      <td>29809082201273</td>\n",
       "      <td>أسيوط الجديدة</td>\n",
       "      <td>22</td>\n",
       "      <td>22.0</td>\n",
       "      <td>بنى سويف</td>\n",
       "      <td>11.0</td>\n",
       "      <td>بنى سويف الجديدة</td>\n",
       "      <td>22.0</td>\n",
       "    </tr>\n",
       "    <tr>\n",
       "      <th>2</th>\n",
       "      <td>55550110002923</td>\n",
       "      <td>29005112500031</td>\n",
       "      <td>أسيوط الجديدة</td>\n",
       "      <td>25</td>\n",
       "      <td>25.0</td>\n",
       "      <td>اسيوط</td>\n",
       "      <td>14.0</td>\n",
       "      <td>أسيوط الجديدة</td>\n",
       "      <td>25.0</td>\n",
       "    </tr>\n",
       "    <tr>\n",
       "      <th>3</th>\n",
       "      <td>55550110002923</td>\n",
       "      <td>29005112500031</td>\n",
       "      <td>أسيوط الجديدة</td>\n",
       "      <td>25</td>\n",
       "      <td>25.0</td>\n",
       "      <td>اسيوط</td>\n",
       "      <td>26.0</td>\n",
       "      <td>مدينة ناصر غرب</td>\n",
       "      <td>25.0</td>\n",
       "    </tr>\n",
       "    <tr>\n",
       "      <th>4</th>\n",
       "      <td>55550110001916</td>\n",
       "      <td>29509012601939</td>\n",
       "      <td>أسيوط الجديدة</td>\n",
       "      <td>26</td>\n",
       "      <td>26.0</td>\n",
       "      <td>سوهاج</td>\n",
       "      <td>15.0</td>\n",
       "      <td>سوهاج الجديدة</td>\n",
       "      <td>26.0</td>\n",
       "    </tr>\n",
       "    <tr>\n",
       "      <th>...</th>\n",
       "      <td>...</td>\n",
       "      <td>...</td>\n",
       "      <td>...</td>\n",
       "      <td>...</td>\n",
       "      <td>...</td>\n",
       "      <td>...</td>\n",
       "      <td>...</td>\n",
       "      <td>...</td>\n",
       "      <td>...</td>\n",
       "    </tr>\n",
       "    <tr>\n",
       "      <th>4343</th>\n",
       "      <td>55550110003258</td>\n",
       "      <td>27103190100338</td>\n",
       "      <td>مدينة طيبة</td>\n",
       "      <td>1</td>\n",
       "      <td>1.0</td>\n",
       "      <td>القاهرة</td>\n",
       "      <td>6.0</td>\n",
       "      <td>العاصمة الادارية</td>\n",
       "      <td>1.0</td>\n",
       "    </tr>\n",
       "    <tr>\n",
       "      <th>4344</th>\n",
       "      <td>55550110003258</td>\n",
       "      <td>27103190100338</td>\n",
       "      <td>مدينة طيبة</td>\n",
       "      <td>1</td>\n",
       "      <td>1.0</td>\n",
       "      <td>القاهرة</td>\n",
       "      <td>19.0</td>\n",
       "      <td>15 مايو</td>\n",
       "      <td>1.0</td>\n",
       "    </tr>\n",
       "    <tr>\n",
       "      <th>4345</th>\n",
       "      <td>55550110003258</td>\n",
       "      <td>27103190100338</td>\n",
       "      <td>مدينة طيبة</td>\n",
       "      <td>1</td>\n",
       "      <td>1.0</td>\n",
       "      <td>القاهرة</td>\n",
       "      <td>71.0</td>\n",
       "      <td>اكاسيا</td>\n",
       "      <td>1.0</td>\n",
       "    </tr>\n",
       "    <tr>\n",
       "      <th>4346</th>\n",
       "      <td>55550110003258</td>\n",
       "      <td>27103190100338</td>\n",
       "      <td>مدينة طيبة</td>\n",
       "      <td>1</td>\n",
       "      <td>1.0</td>\n",
       "      <td>القاهرة</td>\n",
       "      <td>83.0</td>\n",
       "      <td>مدينتى</td>\n",
       "      <td>1.0</td>\n",
       "    </tr>\n",
       "    <tr>\n",
       "      <th>4347</th>\n",
       "      <td>55550110003258</td>\n",
       "      <td>27103190100338</td>\n",
       "      <td>مدينة طيبة</td>\n",
       "      <td>1</td>\n",
       "      <td>1.0</td>\n",
       "      <td>القاهرة</td>\n",
       "      <td>90.0</td>\n",
       "      <td>مدينة الرحاب</td>\n",
       "      <td>1.0</td>\n",
       "    </tr>\n",
       "  </tbody>\n",
       "</table>\n",
       "<p>4348 rows × 9 columns</p>\n",
       "</div>"
      ],
      "text/plain": [
       "       رقم الأستمارة    الرقم القومى        المدينة  nid_gov  gov_code   \n",
       "0     55550110002427  29808272201303  أسيوط الجديدة       22      22.0  \\\n",
       "1     55550110003165  29809082201273  أسيوط الجديدة       22      22.0   \n",
       "2     55550110002923  29005112500031  أسيوط الجديدة       25      25.0   \n",
       "3     55550110002923  29005112500031  أسيوط الجديدة       25      25.0   \n",
       "4     55550110001916  29509012601939  أسيوط الجديدة       26      26.0   \n",
       "...              ...             ...            ...      ...       ...   \n",
       "4343  55550110003258  27103190100338     مدينة طيبة        1       1.0   \n",
       "4344  55550110003258  27103190100338     مدينة طيبة        1       1.0   \n",
       "4345  55550110003258  27103190100338     مدينة طيبة        1       1.0   \n",
       "4346  55550110003258  27103190100338     مدينة طيبة        1       1.0   \n",
       "4347  55550110003258  27103190100338     مدينة طيبة        1       1.0   \n",
       "\n",
       "     portal_gov_name  city_code          city_name  nid_gov_code  \n",
       "0           بنى سويف       11.0   بنى سويف الجديدة          22.0  \n",
       "1           بنى سويف       11.0   بنى سويف الجديدة          22.0  \n",
       "2              اسيوط       14.0      أسيوط الجديدة          25.0  \n",
       "3              اسيوط       26.0    مدينة ناصر غرب           25.0  \n",
       "4              سوهاج       15.0      سوهاج الجديدة          26.0  \n",
       "...              ...        ...                ...           ...  \n",
       "4343         القاهرة        6.0  العاصمة الادارية            1.0  \n",
       "4344         القاهرة       19.0            15 مايو           1.0  \n",
       "4345         القاهرة       71.0             اكاسيا           1.0  \n",
       "4346         القاهرة       83.0             مدينتى           1.0  \n",
       "4347         القاهرة       90.0       مدينة الرحاب           1.0  \n",
       "\n",
       "[4348 rows x 9 columns]"
      ]
     },
     "execution_count": 84,
     "metadata": {},
     "output_type": "execute_result"
    }
   ],
   "source": [
    "df3"
   ]
  },
  {
   "cell_type": "code",
   "execution_count": 87,
   "metadata": {},
   "outputs": [],
   "source": [
    "df3 = df3.merge(portal_gov, how='left', on= 'nid_gov_code')"
   ]
  },
  {
   "cell_type": "code",
   "execution_count": 90,
   "metadata": {},
   "outputs": [
    {
     "data": {
      "text/plain": [
       "Index(['رقم الأستمارة', 'الرقم القومى', 'المدينة', 'nid_gov', 'gov_code_x',\n",
       "       'portal_gov_name_x', 'city_code_x', 'city_name_x', 'nid_gov_code',\n",
       "       'gov_code_y', 'portal_gov_name_y', 'city_code_y', 'city_name_y'],\n",
       "      dtype='object')"
      ]
     },
     "execution_count": 90,
     "metadata": {},
     "output_type": "execute_result"
    }
   ],
   "source": [
    "# df3['nid_gov_name']\n",
    "df3.columns"
   ]
  },
  {
   "cell_type": "code",
   "execution_count": 96,
   "metadata": {},
   "outputs": [
    {
     "data": {
      "text/html": [
       "<div>\n",
       "<style scoped>\n",
       "    .dataframe tbody tr th:only-of-type {\n",
       "        vertical-align: middle;\n",
       "    }\n",
       "\n",
       "    .dataframe tbody tr th {\n",
       "        vertical-align: top;\n",
       "    }\n",
       "\n",
       "    .dataframe thead th {\n",
       "        text-align: right;\n",
       "    }\n",
       "</style>\n",
       "<table border=\"1\" class=\"dataframe\">\n",
       "  <thead>\n",
       "    <tr style=\"text-align: right;\">\n",
       "      <th></th>\n",
       "      <th>رقم الأستمارة</th>\n",
       "      <th>الرقم القومى</th>\n",
       "      <th>المدينة</th>\n",
       "      <th>nid_gov</th>\n",
       "      <th>gov_code_x</th>\n",
       "      <th>portal_gov_name_x</th>\n",
       "      <th>city_code_x</th>\n",
       "      <th>city_name_x</th>\n",
       "      <th>nid_gov_code</th>\n",
       "      <th>gov_code_y</th>\n",
       "      <th>portal_gov_name_y</th>\n",
       "      <th>city_code_y</th>\n",
       "      <th>city_name_y</th>\n",
       "    </tr>\n",
       "  </thead>\n",
       "  <tbody>\n",
       "    <tr>\n",
       "      <th>0</th>\n",
       "      <td>55550110002427</td>\n",
       "      <td>29808272201303</td>\n",
       "      <td>أسيوط الجديدة</td>\n",
       "      <td>22</td>\n",
       "      <td>22.0</td>\n",
       "      <td>بنى سويف</td>\n",
       "      <td>11.0</td>\n",
       "      <td>بنى سويف الجديدة</td>\n",
       "      <td>22.0</td>\n",
       "      <td>22.0</td>\n",
       "      <td>بنى سويف</td>\n",
       "      <td>11.0</td>\n",
       "      <td>بنى سويف الجديدة</td>\n",
       "    </tr>\n",
       "    <tr>\n",
       "      <th>1</th>\n",
       "      <td>55550110003165</td>\n",
       "      <td>29809082201273</td>\n",
       "      <td>أسيوط الجديدة</td>\n",
       "      <td>22</td>\n",
       "      <td>22.0</td>\n",
       "      <td>بنى سويف</td>\n",
       "      <td>11.0</td>\n",
       "      <td>بنى سويف الجديدة</td>\n",
       "      <td>22.0</td>\n",
       "      <td>22.0</td>\n",
       "      <td>بنى سويف</td>\n",
       "      <td>11.0</td>\n",
       "      <td>بنى سويف الجديدة</td>\n",
       "    </tr>\n",
       "    <tr>\n",
       "      <th>2</th>\n",
       "      <td>55550110002923</td>\n",
       "      <td>29005112500031</td>\n",
       "      <td>أسيوط الجديدة</td>\n",
       "      <td>25</td>\n",
       "      <td>25.0</td>\n",
       "      <td>اسيوط</td>\n",
       "      <td>14.0</td>\n",
       "      <td>أسيوط الجديدة</td>\n",
       "      <td>25.0</td>\n",
       "      <td>25.0</td>\n",
       "      <td>اسيوط</td>\n",
       "      <td>14.0</td>\n",
       "      <td>أسيوط الجديدة</td>\n",
       "    </tr>\n",
       "    <tr>\n",
       "      <th>3</th>\n",
       "      <td>55550110002923</td>\n",
       "      <td>29005112500031</td>\n",
       "      <td>أسيوط الجديدة</td>\n",
       "      <td>25</td>\n",
       "      <td>25.0</td>\n",
       "      <td>اسيوط</td>\n",
       "      <td>14.0</td>\n",
       "      <td>أسيوط الجديدة</td>\n",
       "      <td>25.0</td>\n",
       "      <td>25.0</td>\n",
       "      <td>اسيوط</td>\n",
       "      <td>26.0</td>\n",
       "      <td>مدينة ناصر غرب</td>\n",
       "    </tr>\n",
       "    <tr>\n",
       "      <th>4</th>\n",
       "      <td>55550110002923</td>\n",
       "      <td>29005112500031</td>\n",
       "      <td>أسيوط الجديدة</td>\n",
       "      <td>25</td>\n",
       "      <td>25.0</td>\n",
       "      <td>اسيوط</td>\n",
       "      <td>26.0</td>\n",
       "      <td>مدينة ناصر غرب</td>\n",
       "      <td>25.0</td>\n",
       "      <td>25.0</td>\n",
       "      <td>اسيوط</td>\n",
       "      <td>14.0</td>\n",
       "      <td>أسيوط الجديدة</td>\n",
       "    </tr>\n",
       "  </tbody>\n",
       "</table>\n",
       "</div>"
      ],
      "text/plain": [
       "    رقم الأستمارة    الرقم القومى        المدينة  nid_gov  gov_code_x   \n",
       "0  55550110002427  29808272201303  أسيوط الجديدة       22        22.0  \\\n",
       "1  55550110003165  29809082201273  أسيوط الجديدة       22        22.0   \n",
       "2  55550110002923  29005112500031  أسيوط الجديدة       25        25.0   \n",
       "3  55550110002923  29005112500031  أسيوط الجديدة       25        25.0   \n",
       "4  55550110002923  29005112500031  أسيوط الجديدة       25        25.0   \n",
       "\n",
       "  portal_gov_name_x  city_code_x       city_name_x  nid_gov_code  gov_code_y   \n",
       "0          بنى سويف         11.0  بنى سويف الجديدة          22.0        22.0  \\\n",
       "1          بنى سويف         11.0  بنى سويف الجديدة          22.0        22.0   \n",
       "2             اسيوط         14.0     أسيوط الجديدة          25.0        25.0   \n",
       "3             اسيوط         14.0     أسيوط الجديدة          25.0        25.0   \n",
       "4             اسيوط         26.0   مدينة ناصر غرب           25.0        25.0   \n",
       "\n",
       "  portal_gov_name_y  city_code_y       city_name_y  \n",
       "0          بنى سويف         11.0  بنى سويف الجديدة  \n",
       "1          بنى سويف         11.0  بنى سويف الجديدة  \n",
       "2             اسيوط         14.0     أسيوط الجديدة  \n",
       "3             اسيوط         26.0   مدينة ناصر غرب   \n",
       "4             اسيوط         14.0     أسيوط الجديدة  "
      ]
     },
     "execution_count": 96,
     "metadata": {},
     "output_type": "execute_result"
    }
   ],
   "source": [
    "df3.head()"
   ]
  },
  {
   "cell_type": "code",
   "execution_count": 97,
   "metadata": {},
   "outputs": [
    {
     "data": {
      "text/html": [
       "<div>\n",
       "<style scoped>\n",
       "    .dataframe tbody tr th:only-of-type {\n",
       "        vertical-align: middle;\n",
       "    }\n",
       "\n",
       "    .dataframe tbody tr th {\n",
       "        vertical-align: top;\n",
       "    }\n",
       "\n",
       "    .dataframe thead th {\n",
       "        text-align: right;\n",
       "    }\n",
       "</style>\n",
       "<table border=\"1\" class=\"dataframe\">\n",
       "  <thead>\n",
       "    <tr style=\"text-align: right;\">\n",
       "      <th></th>\n",
       "      <th>portal_gov_name_y</th>\n",
       "      <th>portal_gov_name_y</th>\n",
       "      <th>الرقم القومى</th>\n",
       "    </tr>\n",
       "  </thead>\n",
       "  <tbody>\n",
       "    <tr>\n",
       "      <th>0</th>\n",
       "      <td>بنى سويف</td>\n",
       "      <td>بنى سويف</td>\n",
       "      <td>29808272201303</td>\n",
       "    </tr>\n",
       "    <tr>\n",
       "      <th>1</th>\n",
       "      <td>بنى سويف</td>\n",
       "      <td>بنى سويف</td>\n",
       "      <td>29809082201273</td>\n",
       "    </tr>\n",
       "    <tr>\n",
       "      <th>2</th>\n",
       "      <td>اسيوط</td>\n",
       "      <td>اسيوط</td>\n",
       "      <td>29005112500031</td>\n",
       "    </tr>\n",
       "    <tr>\n",
       "      <th>3</th>\n",
       "      <td>اسيوط</td>\n",
       "      <td>اسيوط</td>\n",
       "      <td>29005112500031</td>\n",
       "    </tr>\n",
       "    <tr>\n",
       "      <th>4</th>\n",
       "      <td>اسيوط</td>\n",
       "      <td>اسيوط</td>\n",
       "      <td>29005112500031</td>\n",
       "    </tr>\n",
       "    <tr>\n",
       "      <th>...</th>\n",
       "      <td>...</td>\n",
       "      <td>...</td>\n",
       "      <td>...</td>\n",
       "    </tr>\n",
       "    <tr>\n",
       "      <th>17111</th>\n",
       "      <td>القاهرة</td>\n",
       "      <td>القاهرة</td>\n",
       "      <td>27103190100338</td>\n",
       "    </tr>\n",
       "    <tr>\n",
       "      <th>17112</th>\n",
       "      <td>القاهرة</td>\n",
       "      <td>القاهرة</td>\n",
       "      <td>27103190100338</td>\n",
       "    </tr>\n",
       "    <tr>\n",
       "      <th>17113</th>\n",
       "      <td>القاهرة</td>\n",
       "      <td>القاهرة</td>\n",
       "      <td>27103190100338</td>\n",
       "    </tr>\n",
       "    <tr>\n",
       "      <th>17114</th>\n",
       "      <td>القاهرة</td>\n",
       "      <td>القاهرة</td>\n",
       "      <td>27103190100338</td>\n",
       "    </tr>\n",
       "    <tr>\n",
       "      <th>17115</th>\n",
       "      <td>القاهرة</td>\n",
       "      <td>القاهرة</td>\n",
       "      <td>27103190100338</td>\n",
       "    </tr>\n",
       "  </tbody>\n",
       "</table>\n",
       "<p>17116 rows × 3 columns</p>\n",
       "</div>"
      ],
      "text/plain": [
       "      portal_gov_name_y portal_gov_name_y    الرقم القومى\n",
       "0              بنى سويف          بنى سويف  29808272201303\n",
       "1              بنى سويف          بنى سويف  29809082201273\n",
       "2                 اسيوط             اسيوط  29005112500031\n",
       "3                 اسيوط             اسيوط  29005112500031\n",
       "4                 اسيوط             اسيوط  29005112500031\n",
       "...                 ...               ...             ...\n",
       "17111           القاهرة           القاهرة  27103190100338\n",
       "17112           القاهرة           القاهرة  27103190100338\n",
       "17113           القاهرة           القاهرة  27103190100338\n",
       "17114           القاهرة           القاهرة  27103190100338\n",
       "17115           القاهرة           القاهرة  27103190100338\n",
       "\n",
       "[17116 rows x 3 columns]"
      ]
     },
     "execution_count": 97,
     "metadata": {},
     "output_type": "execute_result"
    }
   ],
   "source": [
    "df3[['portal_gov_name_y','portal_gov_name_y', 'الرقم القومى' ]]#.groupby(['portal_gov_name','nid_gov_name' ]).count()"
   ]
  },
  {
   "cell_type": "code",
   "execution_count": 60,
   "metadata": {},
   "outputs": [],
   "source": [
    "df3[[ 'project_name_ar','governorate_name_ar', ' gov_name', 'applicant_national_id']].\\\n",
    "    groupby([ 'project_name_ar','governorate_name_ar', ' gov_name']).count().to_excel('./out/gov.xlsx')"
   ]
  },
  {
   "attachments": {},
   "cell_type": "markdown",
   "metadata": {},
   "source": [
    "# Test 2  : sort applicats by birth Gov per project"
   ]
  },
  {
   "cell_type": "code",
   "execution_count": 2,
   "metadata": {},
   "outputs": [],
   "source": [
    "# fn = r\"C:\\Yahia\\Python\\portal_logs\\data\\Project 84 and 85.csv\"\n",
    "fn = r\"C:\\Users\\yahia\\Downloads\\E01___استعلام_عن_بيانات_العملاء_بالمشروع_و_الحالة.xls\"\n",
    "df = pd.read_excel(fn, dtype_backend='pyarrow', skiprows=3)\n",
    "df= df.dropna(subset='الرقم القومى')\n",
    "df['nid_gov_code'] = df['الرقم القومى'].astype(str).str[7:9].astype(int)\n",
    "portal_gov = pd.read_csv(r\"C:\\Yahia\\Python\\portal_logs\\portal_gov.csv\")\n",
    "# df.columns"
   ]
  },
  {
   "cell_type": "code",
   "execution_count": 3,
   "metadata": {},
   "outputs": [],
   "source": [
    "df = df.merge(portal_gov[['nid_gov_code', 'portal_gov_name']].drop_duplicates(subset='portal_gov_name'), how='left', on= 'nid_gov_code')"
   ]
  },
  {
   "cell_type": "code",
   "execution_count": null,
   "metadata": {},
   "outputs": [],
   "source": [
    "df1=(df[['الرقم القومى', 'portal_gov_name']]\n",
    "        .groupby(['portal_gov_name']).count()\n",
    "        .sort_values(['الرقم القومى'], ascending = False))\n",
    "df1['%'] =df1['الرقم القومى'].astype(int) /df.count()[0]\n",
    "df1\n"
   ]
  },
  {
   "attachments": {},
   "cell_type": "markdown",
   "metadata": {},
   "source": [
    "# reservation rate"
   ]
  },
  {
   "cell_type": "code",
   "execution_count": 50,
   "metadata": {},
   "outputs": [],
   "source": [
    "fn = r\"C:\\Users\\yahia\\Downloads\\E04___بيانات_الأراضى_المحجوزة-202304181156.xlsx\"\n",
    "fn = r\"C:\\Users\\yahia\\Downloads\\E04___بيانات_الأراضى_المحجوزة-202304190030.xls\"\n",
    "df = pd.read_excel(fn, dtype_backend='pyarrow', skiprows=3).dropna(subset=['الرقم القومى'], axis=0)\\\n",
    "        .rename(columns={'تاريخ الحجز':'res_date'})\n",
    "df['hr'] = df.res_date.dt.hour\n",
    "df['min'] = df.res_date.dt.minute\n",
    "df['date'] = df.res_date.dt.date\n",
    "# df.columns"
   ]
  },
  {
   "cell_type": "code",
   "execution_count": 49,
   "metadata": {},
   "outputs": [
    {
     "data": {
      "text/plain": [
       "<AxesSubplot:title={'center':'Reservation rate by Hr/Min - 2023-02-23'}, xlabel='hr,min'>"
      ]
     },
     "execution_count": 49,
     "metadata": {},
     "output_type": "execute_result"
    },
    {
     "data": {
      "image/png": "[encoded data removed]",
      "text/plain": [
       "<Figure size 432x288 with 1 Axes>"
      ]
     },
     "metadata": {
      "needs_background": "light"
     },
     "output_type": "display_data"
    }
   ],
   "source": [
    "df[[ 'res_date', 'hr', 'min',]].groupby(['hr', 'min']).count().plot(title=f\"Reservation rate by Hr/Min - {df.date[0]}\")"
   ]
  },
  {
   "cell_type": "code",
   "execution_count": 51,
   "metadata": {},
   "outputs": [
    {
     "data": {
      "text/plain": [
       "<AxesSubplot:title={'center':'Reservation rate by Hr/Min - 2023-04-13'}, xlabel='hr,min'>"
      ]
     },
     "execution_count": 51,
     "metadata": {},
     "output_type": "execute_result"
    },
    {
     "data": {
      "image/png": "[encoded data removed]",
      "text/plain": [
       "<Figure size 432x288 with 1 Axes>"
      ]
     },
     "metadata": {
      "needs_background": "light"
     },
     "output_type": "display_data"
    }
   ],
   "source": [
    "df[[ 'res_date', 'hr', 'min',]].groupby(['hr', 'min']).count().plot(title=f\"Reservation rate by Hr/Min - {df.date[0]}\")"
   ]
  }
 ],
 "metadata": {
  "kernelspec": {
   "display_name": "Python 3",
   "language": "python",
   "name": "python3"
  },
  "language_info": {
   "codemirror_mode": {
    "name": "ipython",
    "version": 3
   },
   "file_extension": ".py",
   "mimetype": "text/x-python",
   "name": "python",
   "nbconvert_exporter": "python",
   "pygments_lexer": "ipython3",
   "version": "3.10.2"
  },
  "orig_nbformat": 4
 },
 "nbformat": 4,
 "nbformat_minor": 2
}
