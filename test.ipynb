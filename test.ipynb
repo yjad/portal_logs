{
 "cells": [
  {
   "cell_type": "code",
   "execution_count": 1,
   "metadata": {},
   "outputs": [],
   "source": [
    "import pandas as pd\n",
    "# import os\n",
    "# import lxml\n",
    "# import DB as db"
   ]
  },
  {
   "attachments": {},
   "cell_type": "markdown",
   "metadata": {},
   "source": [
    "# test pandas 2.0"
   ]
  },
  {
   "cell_type": "code",
   "execution_count": null,
   "metadata": {},
   "outputs": [],
   "source": [
    "# fn = r\"C:\\Users\\yahia\\OneDrive - Data and Transaction Services\\Python-data\\PortalLogs\\summary\\log summary-2023-04-03.zip\"\n",
    "# fn = r\"C:\\Users\\yahia\\OneDrive - Data and Transaction Services\\Python-data\\PortalLogs\\logs\\server.log.2023-02-23.zip\"\n",
    "fn= r\"C:\\Users\\yahia\\OneDrive - Data and Transaction Services\\Python-data\\PortalLogs\\summary\\log summary-2023-02-23-YJ-DELL.zip\"\n",
    "# %timeit df= pd.read_csv(fn)\n",
    "df= pd.read_csv(fn, dtype_backend = 'pyarrow', low_memory=False)\n",
    "# pd.options.mode.dtype_backend = 'pyarrow'\n",
    "\n",
    "\n",
    "df.info()"
   ]
  },
  {
   "cell_type": "code",
   "execution_count": null,
   "metadata": {},
   "outputs": [],
   "source": [
    "proj_fn = r\"C:\\Users\\yahia\\OneDrive - Data and Transaction Services\\Projects\\Realestate Reservation Portal\\5- Operation\\Incident reports\\Reservation with status N\\Copy of mpc_pro.xls\"\n",
    "pro_2_fn = r\"C:\\Users\\yahia\\OneDrive - Data and Transaction Services\\Projects\\Realestate Reservation Portal\\5- Operation\\Incident reports\\Reservation with status N\\Copy of soc_pro.xls\"\n",
    "data_types = {'الرقم القومى للزوج / ': 'string[pyarrow]', \n",
    "              'الرقم الأرضى': 'string[pyarrow]',\n",
    "             'الرقم المحمول': 'string[pyarrow]',\n",
    "             'الرقم القومى': 'string[pyarrow]',\n",
    "             'رقم الأستمارة': 'string[pyarrow]'}\n",
    "rdf_1= pd.read_excel(proj_fn, dtype_backend = 'pyarrow', skiprows=2 , dtype=data_types)\n",
    "rdf_2= pd.read_excel(pro_2_fn, dtype_backend = 'pyarrow', skiprows=0 , dtype=data_types)\n",
    "rdf =  pd.concat([rdf_1, rdf_2])\n",
    "rdf.info()"
   ]
  },
  {
   "cell_type": "code",
   "execution_count": null,
   "metadata": {},
   "outputs": [],
   "source": [
    "ip = df.query(\"token == 'confirmLandReservation True'\")[['NID', 'IP_address', 'country', 'log_date']]\n",
    "ip.info()"
   ]
  },
  {
   "cell_type": "code",
   "execution_count": null,
   "metadata": {},
   "outputs": [],
   "source": [
    "df.query(\"token == 'confirmLandReservation True' and NID == '25006192300285'\")"
   ]
  },
  {
   "cell_type": "code",
   "execution_count": null,
   "metadata": {},
   "outputs": [],
   "source": [
    "rdf.merge(ip, how='left',right_on= 'NID', left_on=rdf.columns[15]).to_excel('./out/reservatio_with_N.xlsx')"
   ]
  },
  {
   "cell_type": "code",
   "execution_count": null,
   "metadata": {},
   "outputs": [],
   "source": [
    "lst=[1,2,3,4,5,6,7]\n",
    "li = [100,122,233,222,333,444, 555]\n",
    "\n",
    "pd.DataFrame(lst, index=li)"
   ]
  },
  {
   "attachments": {},
   "cell_type": "markdown",
   "metadata": {},
   "source": [
    "# test"
   ]
  },
  {
   "cell_type": "code",
   "execution_count": 2,
   "metadata": {},
   "outputs": [],
   "source": [
    "fn = r\"C:\\Users\\yahia\\OneDrive - Data and Transaction Services\\Python-data\\PortalLogs\\summary\\log summary-2023-03-26.zip\"\n",
    "\n",
    "df = pd.read_csv(fn, low_memory=False)"
   ]
  },
  {
   "cell_type": "code",
   "execution_count": 6,
   "metadata": {},
   "outputs": [
    {
     "data": {
      "text/plain": [
       "token\n",
       "Exception                    529095\n",
       "Logins                       227883\n",
       "completeReservation True     191125\n",
       "getLegalTerms True           188870\n",
       "preReservation True          115672\n",
       "io.undertow.request          105178\n",
       "completeUnitDetails True      59262\n",
       "thymeleaf                     50779\n",
       "Failed Logins                 34020\n",
       "getLegalTerms False           32749\n",
       "logout True                   15109\n",
       "preReservation False          12126\n",
       "Authentication                12081\n",
       "ExecutionChain                10622\n",
       "completeReservation False      9796\n",
       "confirmReservation True        6620\n",
       "Invalid format                 3941\n",
       "confirmReservation False        672\n",
       "completeUnitDetails False       508\n",
       "register True                   404\n",
       "getReservationNum True          250\n",
       "getReservationNum False         190\n",
       "refundVerify True               110\n",
       "Name: count, dtype: int64"
      ]
     },
     "execution_count": 6,
     "metadata": {},
     "output_type": "execute_result"
    }
   ],
   "source": [
    "df.token.value_counts()"
   ]
  },
  {
   "cell_type": "code",
   "execution_count": null,
   "metadata": {},
   "outputs": [],
   "source": []
  }
 ],
 "metadata": {
  "kernelspec": {
   "display_name": "Python 3.10.2 64-bit",
   "language": "python",
   "name": "python3"
  },
  "language_info": {
   "codemirror_mode": {
    "name": "ipython",
    "version": 3
   },
   "file_extension": ".py",
   "mimetype": "text/x-python",
   "name": "python",
   "nbconvert_exporter": "python",
   "pygments_lexer": "ipython3",
   "version": "3.10.2"
  },
  "orig_nbformat": 4,
  "vscode": {
   "interpreter": {
    "hash": "26de051ba29f2982a8de78e945f0abaf191376122a1563185a90213a26c5da77"
   }
  }
 },
 "nbformat": 4,
 "nbformat_minor": 2
}
