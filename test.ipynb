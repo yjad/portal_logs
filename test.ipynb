{
 "cells": [
  {
   "cell_type": "code",
   "execution_count": null,
   "metadata": {},
   "outputs": [],
   "source": [
    "import pandas as pd\n",
    "# import os\n",
    "# import lxml\n",
    "# import DB as db"
   ]
  },
  {
   "attachments": {},
   "cell_type": "markdown",
   "metadata": {},
   "source": [
    "# test pandas 2.0"
   ]
  },
  {
   "cell_type": "code",
   "execution_count": null,
   "metadata": {},
   "outputs": [],
   "source": [
    "# fn = r\"C:\\Users\\yahia\\OneDrive - Data and Transaction Services\\Python-data\\PortalLogs\\summary\\log summary-2023-04-03.zip\"\n",
    "# fn = r\"C:\\Users\\yahia\\OneDrive - Data and Transaction Services\\Python-data\\PortalLogs\\logs\\server.log.2023-02-23.zip\"\n",
    "# fn= r\"C:\\Users\\yahia\\OneDrive - Data and Transaction Services\\Python-data\\PortalLogs\\summary\\log summary-2023-02-23-YJ-DELL.zip\"\n",
    "fn = r\"C:\\Users\\yahia\\OneDrive - Data and Transaction Services\\Python-data\\PortalLogs\\summary\\log summary-2023-04-03.zip\"\n",
    "fn = r\"C:\\Users\\yahia\\OneDrive - Data and Transaction Services\\Python-data\\PortalLogs\\summary\\log summary-2022-08-17.zip\"\n",
    "# %timeit df= pd.read_csv(fn)\n",
    "\n",
    "df_np= pd.read_csv(fn, low_memory=False, compression='zip')\n",
    "\n",
    "\n",
    "\n",
    "\n",
    "df_np.query(\"token in ('confirmLandReservation True', 'confirmReservation True')\")"
   ]
  },
  {
   "cell_type": "code",
   "execution_count": null,
   "metadata": {},
   "outputs": [],
   "source": [
    "fn = r\"C:\\Users\\yahia\\OneDrive - Data and Transaction Services\\Python-data\\PortalLogs\\summary\\log summary-2022-08-17.zip\"\n",
    "fn = r\"C:\\Users\\yahia\\OneDrive - Data and Transaction Services\\Python-data\\PortalLogs\\summary\\log summary-2023-02-23.zip\"\n",
    "# df_pa= pd.read_csv(fn, engine= 'pyarrow', dtype_backend = 'pyarrow', compression='zip')\n",
    "df = pd.read_csv(fn,  compression= 'zip', dtype={'NID':'string[pyarrow]'}, engine= 'pyarrow', dtype_backend = 'pyarrow')\n",
    "# df_pa.info()\n",
    "nid_gov = pd.read_csv(r\"C:\\Yahia\\Python\\portal_logs\\portal_gov.csv\")"
   ]
  },
  {
   "cell_type": "code",
   "execution_count": null,
   "metadata": {},
   "outputs": [],
   "source": [
    "dfo= (df.query(\"token in ('confirmLandReservation True', 'confirmReservation True')\")[['NID', 'City']]\n",
    "    .assign(nid_gov_code= lambda x: x.NID.str[7:9].astype(int))\n",
    "    .merge(nid_gov, how='left', on= 'nid_gov_code')\n",
    "    .reset_index(drop=True)\n",
    "    .drop(['nid_gov_code', 'gov_code', 'city_code', 'city_name'], axis=1)\n",
    "    .rename(columns={'NID': '# of Reservations',\n",
    "            'portal_gov_name':'birth_gov',\n",
    "            'City':'Reservaion City'})\n",
    "    .groupby([ 'Reservaion City', 'birth_gov',]).count()\n",
    "    .reset_index()\n",
    ")\n",
    "total_res_city = dfo.drop(columns='birth_gov').groupby(['Reservaion City']).sum().reset_index()\n",
    "(dfo.merge(total_res_city, how='left', on='Reservaion City')\n",
    "    .assign(percnt= lambda x: 100*x['# of Reservations_x']/x['# of Reservations_y'])\n",
    "    .groupby(['Reservaion City', 'birth_gov']).sum()\n",
    "    .drop(columns=['# of Reservations_y'])\n",
    "    .sort_values(by=['Reservaion City', 'percnt'], ascending=[True, False])\n",
    ")"
   ]
  },
  {
   "cell_type": "code",
   "execution_count": null,
   "metadata": {},
   "outputs": [],
   "source": []
  },
  {
   "cell_type": "code",
   "execution_count": null,
   "metadata": {},
   "outputs": [],
   "source": [
    "dfo= (df.query(\"token in ('confirmLandReservation True', 'confirmReservation True')\")[['NID', 'City']]\n",
    "    .assign(nid_gov_code= lambda x: x.NID.str[7:9].astype(int))\n",
    "    .merge(nid_gov, how='left', on= 'nid_gov_code')\n",
    "    .reset_index(drop=True)\n",
    "    .drop(['nid_gov_code', 'gov_code', 'city_code', 'city_name'], axis=1)\n",
    "    .groupby(['City', 'portal_gov_name',]).count()\n",
    "    .reset_index()\n",
    ")\n",
    "total_res_city = dfo.drop(columns='portal_gov_name').groupby(['City']).sum().reset_index()\n",
    "dfo = (dfo.merge(total_res_city, how='left', on='City')\n",
    "    .assign(percent= lambda x: 100*x['NID_x']/x['NID_y'])\n",
    "    .rename(columns={'NID_x': '# of Reservations',\n",
    "                'City':'Reservaion City',\n",
    "                'portal_gov_name':'birth_gov'})\n",
    "    .groupby(['Reservaion City', 'birth_gov']).sum()\n",
    "    .drop(columns=['NID_y'])\n",
    "    .sort_values(by=['Reservaion City', 'percent'], ascending=[True, False])\n",
    ")\n",
    "dfo"
   ]
  },
  {
   "cell_type": "code",
   "execution_count": null,
   "metadata": {},
   "outputs": [],
   "source": [
    "proj_fn = r\"C:\\Users\\yahia\\OneDrive - Data and Transaction Services\\Projects\\Realestate Reservation Portal\\5- Operation\\Incident reports\\Reservation with status N\\Copy of mpc_pro.xls\"\n",
    "pro_2_fn = r\"C:\\Users\\yahia\\OneDrive - Data and Transaction Services\\Projects\\Realestate Reservation Portal\\5- Operation\\Incident reports\\Reservation with status N\\Copy of soc_pro.xls\"\n",
    "data_types = {'الرقم القومى للزوج / ': 'string[pyarrow]', \n",
    "              'الرقم الأرضى': 'string[pyarrow]',\n",
    "             'الرقم المحمول': 'string[pyarrow]',\n",
    "             'الرقم القومى': 'string[pyarrow]',\n",
    "             'رقم الأستمارة': 'string[pyarrow]'}\n",
    "rdf_1= pd.read_excel(proj_fn, dtype_backend = 'pyarrow', skiprows=2 , dtype=data_types)\n",
    "rdf_2= pd.read_excel(pro_2_fn, dtype_backend = 'pyarrow', skiprows=0 , dtype=data_types)\n",
    "rdf =  pd.concat([rdf_1, rdf_2])\n",
    "rdf.info()"
   ]
  },
  {
   "cell_type": "code",
   "execution_count": null,
   "metadata": {},
   "outputs": [],
   "source": [
    "ip = df.query(\"token == 'confirmLandReservation True'\")[['NID', 'IP_address', 'country', 'log_date']]\n",
    "ip.info()"
   ]
  },
  {
   "cell_type": "code",
   "execution_count": null,
   "metadata": {},
   "outputs": [],
   "source": [
    "df.query(\"token == 'confirmLandReservation True' and NID == '25006192300285'\")"
   ]
  },
  {
   "cell_type": "code",
   "execution_count": null,
   "metadata": {},
   "outputs": [],
   "source": [
    "rdf.merge(ip, how='left',right_on= 'NID', left_on=rdf.columns[15]).to_excel('./out/reservatio_with_N.xlsx')"
   ]
  },
  {
   "cell_type": "code",
   "execution_count": null,
   "metadata": {},
   "outputs": [],
   "source": [
    "lst=[1,2,3,4,5,6,7]\n",
    "li = [100,122,233,222,333,444, 555]\n",
    "\n",
    "pd.DataFrame(lst, index=li)"
   ]
  },
  {
   "attachments": {},
   "cell_type": "markdown",
   "metadata": {},
   "source": [
    "# test"
   ]
  },
  {
   "cell_type": "code",
   "execution_count": null,
   "metadata": {},
   "outputs": [],
   "source": [
    "fn = r\"C:\\Users\\yahia\\OneDrive - Data and Transaction Services\\Documents\\Project 84 and 85.csv\"\n",
    "df = pd.read_csv(fn, low_memory=False, parse_dates=['status_date']).dropna(subset=['land_id'], axis=0)\n",
    "df['res_hour'] = df.status_date.dt.hour"
   ]
  },
  {
   "cell_type": "code",
   "execution_count": null,
   "metadata": {},
   "outputs": [],
   "source": [
    "df.columns"
   ]
  },
  {
   "cell_type": "code",
   "execution_count": null,
   "metadata": {},
   "outputs": [],
   "source": [
    "df1 =df1[['status_date', 'project_id', 'res_hour']].pivot_table(columns='project_id', index='res_hour', aggfunc = 'count').reset_index()\n",
    "df1#.drop(columns = 'project_id' , axis=1, )#.plot()\n",
    "# df1.index"
   ]
  },
  {
   "cell_type": "code",
   "execution_count": null,
   "metadata": {},
   "outputs": [],
   "source": [
    "df[['status_date', 'project_id', 'res_hour']]"
   ]
  },
  {
   "attachments": {},
   "cell_type": "markdown",
   "metadata": {},
   "source": [
    "# Format numbers"
   ]
  },
  {
   "cell_type": "code",
   "execution_count": null,
   "metadata": {},
   "outputs": [],
   "source": [
    "line_no = 66920000\n",
    "line_count = 103508852 \n",
    "pcnt = line_no/line_count\n",
    "\n",
    "x = \"{0}/{1} - {2:.1%}\".format(line_no, line_count, pcnt )\n",
    "x1 = f\"{line_no:,}/{line_count:,} - {line_no/line_count:.1%}\"\n",
    "x1\n"
   ]
  },
  {
   "cell_type": "markdown",
   "metadata": {},
   "source": [
    "# Intel CVEID"
   ]
  },
  {
   "cell_type": "code",
   "execution_count": null,
   "metadata": {},
   "outputs": [],
   "source": [
    "fn = r\"C:\\Users\\yahia\\OneDrive - Data and Transaction Services\\Python-data\\vulnerability\\data\\CBE Alerts\\Intel Security Updates - 09 August 2023.xlsx\"\n",
    "\n",
    "import openpyxl\n",
    "import requests\n",
    "\n",
    "wb = openpyxl.load_workbook(fn)\n",
    "sheets = wb.sheetnames\n",
    "ws = wb[sheets[0]]\n",
    "# Deprecation warning\n",
    "# ws = wb.get_sheet_by_name('Sheet1')\n"
   ]
  },
  {
   "cell_type": "code",
   "execution_count": null,
   "metadata": {},
   "outputs": [],
   "source": [
    "def get_cveid(url):\n",
    "    r = requests.get(url)\n",
    "    buf = r.text\n",
    "    # ss = buf.find( \"CVEID:\")\n",
    "    i = str(buf).find(\"CVE-\")\n",
    "    # print (ss, r.content)\n",
    "    return buf[i:i+14]\n",
    "    "
   ]
  },
  {
   "cell_type": "code",
   "execution_count": null,
   "metadata": {},
   "outputs": [],
   "source": [
    "cveid_lst=[]\n",
    "for r in range(2, 48):\n",
    "    url = ws.cell(row=r, column=1).hyperlink.target\n",
    "    print(r, url )\n",
    "    buf = get_cveid(url)\n",
    "    cveid_lst.append(buf)\n",
    "cveid_lst"
   ]
  },
  {
   "cell_type": "code",
   "execution_count": null,
   "metadata": {},
   "outputs": [],
   "source": [
    "\n",
    "i = str(buf).find(\"CVEID:\")\n",
    "i = str(buf).find(\"CVE-\")\n",
    "i, buf, buf[i:i+100], buf[i:i+14]\n",
    "# print (str(buf)[i:])"
   ]
  },
  {
   "cell_type": "code",
   "execution_count": null,
   "metadata": {},
   "outputs": [],
   "source": []
  }
 ],
 "metadata": {
  "kernelspec": {
   "display_name": "Python 3.10.2 64-bit",
   "language": "python",
   "name": "python3"
  },
  "language_info": {
   "codemirror_mode": {
    "name": "ipython",
    "version": 3
   },
   "file_extension": ".py",
   "mimetype": "text/x-python",
   "name": "python",
   "nbconvert_exporter": "python",
   "pygments_lexer": "ipython3",
   "version": "3.11.4"
  },
  "orig_nbformat": 4,
  "vscode": {
   "interpreter": {
    "hash": "26de051ba29f2982a8de78e945f0abaf191376122a1563185a90213a26c5da77"
   }
  }
 },
 "nbformat": 4,
 "nbformat_minor": 2
}
