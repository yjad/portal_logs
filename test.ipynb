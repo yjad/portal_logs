{
 "cells": [
  {
   "cell_type": "code",
   "execution_count": null,
   "metadata": {},
   "outputs": [],
   "source": [
    "import pandas as pd\n",
    "import os\n",
    "# import lxml\n",
    "import DB as db"
   ]
  },
  {
   "cell_type": "code",
   "execution_count": null,
   "metadata": {},
   "outputs": [],
   "source": [
    "projects= (66, 67, 68, 69)\n",
    "# files = ('Results-66.txt', 'Results-67.txt', 'Results-68.txt', 'Results-69.txt')\n",
    "dir = r\"C:\\Users\\yahia\\OneDrive - Data and Transaction Services\\Projects\\Realestate Reservation Portal\\5- Operation\\Incident reports\\change land-no\\checksum\"\n",
    "\n",
    "lst = []\n",
    "for p in projects:\n",
    "\n",
    "    fpath = os.path.join(dir, f\"Results-{p}.txt\") \n",
    "    with open(fpath, 'rt') as f:\n",
    "        while(True):\n",
    "            line = f.readline()\n",
    "            if not line: break\n",
    "            if line[:5] in ('-----', '     '): continue\n",
    "            NID = line[25:39]\n",
    "            land_id = line[51:56]\n",
    "            res_no = line[79:93]\n",
    "            valid = line[98:106].strip()\n",
    "            rec = [p, NID, land_id, res_no, valid]\n",
    "            lst.append(rec)\n",
    "\n",
    "df = pd.DataFrame(data=lst, columns=['project', 'NID', 'land_id', 'reservation_no', 'valid'])\n",
    "df.to_csv('./out/checksum.csv')"
   ]
  },
  {
   "cell_type": "code",
   "execution_count": null,
   "metadata": {},
   "outputs": [],
   "source": [
    "df1=pd.DataFrame()\n",
    "df1['NID'] = df.iloc[:,0].str[25:41]\n",
    "df1['land_id'] = df.iloc[:,1].str[10:16]\n",
    "df1['res_no'] = df.iloc[:,2].str[22:35]\n",
    "df1['valid'] = df.iloc[:,2].str[40:50]\n",
    "df1.loc[df1.NID.str.startswith('---')]\n",
    "# df1"
   ]
  },
  {
   "cell_type": "code",
   "execution_count": null,
   "metadata": {},
   "outputs": [],
   "source": [
    "dblog_csv_fn = r\"C:\\Yahia\\Python\\portal_logs\\out\\dblog_from-to_db_log.csv\"\n",
    "# df = pd.read_csv(dblog_csv_fn, parse_dates=True, usecols=['tmstamp', 'query','params','proc_tbl'])\n",
    "df = pd.read_csv(dblog_csv_fn, parse_dates=True, usecols=['params','proc_tbl'])\n",
    "proc_name = 'reserveLand'\n",
    "tbl = df.loc[df.proc_tbl == proc_name]    "
   ]
  },
  {
   "cell_type": "code",
   "execution_count": null,
   "metadata": {},
   "outputs": [],
   "source": [
    "t = tbl.params.str.split(',')\n",
    "# t.apply(lambda x: x[2])\n",
    "t.apply(lambda x: len(x))\n"
   ]
  },
  {
   "cell_type": "code",
   "execution_count": null,
   "metadata": {},
   "outputs": [],
   "source": [
    "nparams = len(tbl.iloc[0,1].split(','))\n",
    "df = pd.DataFrame()\n",
    "t = tbl.params.str.split(',')\n",
    "for i in range(nparams) :\n",
    "    df[f\"P{i+1}\"] = t.apply(lambda x: x[i])\n",
    "\n",
    "df"
   ]
  },
  {
   "cell_type": "code",
   "execution_count": null,
   "metadata": {},
   "outputs": [],
   "source": [
    "{\"Gov\":\"القاهرة\",\"City\":\"القاهرة الجديدة\",\"Region\":\"نزهة التجمع الثالث بمنطقة المستقبل (3)\",\"District\":\"null\",\"Sub_District\":\"null\",\"Floor_No\":\"0\",\"building_no\":\"2\",\"Unit_No\":\"15\",\"Unit_Model\":\"A\",\"Unit_ID\":\"118744\",\"checksum\":\"01AE4AA44C9C78B81EFC0443D02AC43C687F023ECCB8A07631FEC86258B50CE7F6\"}"
   ]
  },
  {
   "cell_type": "code",
   "execution_count": null,
   "metadata": {},
   "outputs": [],
   "source": [
    "import tarfile\n",
    "fn = r\"C:\\Users\\yahia\\Downloads\\server.log.2022-12-28.tar.gz\"\n",
    "\n",
    "file_name = None\n",
    "file_obj = fn\n",
    "with tarfile.open(name  = fn, fileobj = file_obj, mode = \"r:gz\") as tar:\n",
    "    for member in tar.getmembers():\n",
    "        f=tar.extractfile(member)\n",
    "        for f in zfiles:\n",
    "        line_no = 0\n",
    "        # print (fname)\n",
    "        while True:\n",
    "            txt = f.readline()\n",
    "            # print (len(txt), txt)\n",
    "            if not txt: break # end of file\n",
    "            line_no += 1\n",
    "\n",
    "            # if line_no > 10000: break\n",
    "            # if line_no < 100000000: continue\n",
    "            # if line_no % 10000 == 0: print (line_no)\n",
    "            if line_no % 40000 == 0: print (line_no)\n",
    "            \n",
    "            txt = txt.decode('utf-8')\n",
    "            log_type = txt[24:29]"
   ]
  }
 ],
 "metadata": {
  "kernelspec": {
   "display_name": "Python 3.10.2 64-bit",
   "language": "python",
   "name": "python3"
  },
  "language_info": {
   "codemirror_mode": {
    "name": "ipython",
    "version": 3
   },
   "file_extension": ".py",
   "mimetype": "text/x-python",
   "name": "python",
   "nbconvert_exporter": "python",
   "pygments_lexer": "ipython3",
   "version": "3.10.2 (tags/v3.10.2:a58ebcc, Jan 17 2022, 14:12:15) [MSC v.1929 64 bit (AMD64)]"
  },
  "orig_nbformat": 4,
  "vscode": {
   "interpreter": {
    "hash": "26de051ba29f2982a8de78e945f0abaf191376122a1563185a90213a26c5da77"
   }
  }
 },
 "nbformat": 4,
 "nbformat_minor": 2
}
